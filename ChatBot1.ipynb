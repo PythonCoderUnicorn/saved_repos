{
 "cells": [
  {
   "cell_type": "markdown",
   "metadata": {},
   "source": [
    "# Chat Bot #1 "
   ]
  },
  {
   "cell_type": "code",
   "execution_count": null,
   "metadata": {},
   "outputs": [
    {
     "name": "stdout",
     "output_type": "stream",
     "text": [
      "\n",
      " ========================================================================\n",
      " hi, type lowercase. quit to exit.\n",
      ">hey\n",
      "hey there\n",
      ">hi\n",
      "hello\n",
      "> quit\n",
      "bye\n"
     ]
    }
   ],
   "source": [
    "# chatbot\n",
    "\n",
    "''' https://towardsdatascience.com/build-your-first-chatbot-using-python-nltk-5d07b027e727 '''\n",
    "\n",
    "from nltk.chat.util import Chat, reflections\n",
    "import os\n",
    "\n",
    "\n",
    "reflections = {\n",
    "\t'i am'\t: 'you are',\n",
    "\t'i was'\t: 'you were',\n",
    "\t'i'\t\t: 'you',\n",
    "\t\"i'm\"\t: 'you are',\n",
    "\t\"i'd\"\t: 'you would',\n",
    "\t\"i've\"\t: 'you have',\n",
    "\t\"i'll\"\t: 'you will',\n",
    "\t'my'\t: 'your',\n",
    "\t'you are'\t: \"i am\",\n",
    "\t\"you were\"\t: 'i was',\n",
    "\t\"you've\"\t: 'i have',\n",
    "\t\"you'll\"\t: ' i have',\n",
    "\t\"your\"\t\t: 'my',\n",
    "\t'yours'\t\t: 'mine',\n",
    "\t'you'\t\t: 'me',\n",
    "\t'me'\t\t: 'you',\n",
    "\t'myself'\t: 'yourself'\n",
    "}\n",
    "\n",
    "\n",
    "pairs = [\n",
    "\t[r\" hey\",[\" hello, how are you today?\",]],\n",
    "\n",
    "\t[r' will you fix my computer?',['no','fix it yourself, damn it']],\n",
    "\n",
    "\t[r\"what is your name?\",[\"my name is chatty-chat-chatta\",]],\n",
    "\t\n",
    "\t[r\" i'm ok\",['nice to hear that',]],\n",
    "\t[r\"hi|hey|hello\",['hello','hey there',]],\n",
    "\t[r\"(.*) created ?\", ['top secret',]],\n",
    "\n",
    "\t[r\" quit\",['bye','see you later']],\n",
    "\t]\n",
    "\n",
    "\n",
    "\n",
    "\n",
    "\n",
    "\n",
    "\n",
    "#------------------------------------------------------------------------------------\n",
    "\n",
    "def chatty():\n",
    "\tprint('\\n','='*72)\n",
    "\tprint(' hi, type lowercase. quit to exit.')\n",
    "\n",
    "\tchat = Chat(pairs)\n",
    "\tchat.converse()\n",
    "\n",
    "if __name__ == '__main__':\n",
    "\tchatty()\n",
    "\n",
    "\n",
    "\n",
    "'''\n",
    "dummy_reflections = {\n",
    "\t'go' : 'gone',\n",
    "\t'hi' : 'hey there',\n",
    "\t'weather' : 'it is nice',\n",
    "}\n",
    "'''\n",
    "\n",
    "\n",
    "chatty.converse()"
   ]
  },
  {
   "cell_type": "code",
   "execution_count": null,
   "metadata": {},
   "outputs": [],
   "source": []
  }
 ],
 "metadata": {
  "kernelspec": {
   "display_name": "Python 3",
   "language": "python",
   "name": "python3"
  },
  "language_info": {
   "codemirror_mode": {
    "name": "ipython",
    "version": 3
   },
   "file_extension": ".py",
   "mimetype": "text/x-python",
   "name": "python",
   "nbconvert_exporter": "python",
   "pygments_lexer": "ipython3",
   "version": "3.7.4"
  }
 },
 "nbformat": 4,
 "nbformat_minor": 2
}
