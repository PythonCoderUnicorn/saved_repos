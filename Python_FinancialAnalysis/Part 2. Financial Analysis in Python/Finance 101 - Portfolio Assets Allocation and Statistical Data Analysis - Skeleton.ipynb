{
 "cells": [
  {
   "cell_type": "markdown",
   "metadata": {
    "colab_type": "text",
    "id": "ltpfSDVCRbRX"
   },
   "source": [
    "#TASK #1: PROJECT OVERVIEW AND ASSET TYPES"
   ]
  },
  {
   "cell_type": "markdown",
   "metadata": {
    "colab_type": "text",
    "id": "sxflQbPmX-Pm"
   },
   "source": [
    "![alt text](https://drive.google.com/uc?id=1TEVVCFWQD8F5mlC7FzD-JM2y54ivYZHT)"
   ]
  },
  {
   "cell_type": "markdown",
   "metadata": {
    "colab_type": "text",
    "id": "Sm6dYc4lYWXI"
   },
   "source": [
    "![alt text](https://drive.google.com/uc?id=1Z253Wmij7HCEHqPsMdEI56qYqASRrsjn)\n"
   ]
  },
  {
   "cell_type": "markdown",
   "metadata": {
    "colab_type": "text",
    "id": "J8oYWnAoYWzN"
   },
   "source": [
    "![alt text](https://drive.google.com/uc?id=10XxwtKY2qEiNAdTkqNXKhNFZrWvwwKbN)"
   ]
  },
  {
   "cell_type": "markdown",
   "metadata": {
    "colab_type": "text",
    "id": "W_YgRmfpYW9d"
   },
   "source": [
    "![alt text](https://drive.google.com/uc?id=1SfBtfOoDigo4ofEvPAwIojqGHpMojL5S)"
   ]
  },
  {
   "cell_type": "markdown",
   "metadata": {
    "colab_type": "text",
    "id": "uXLoS6qS74qs"
   },
   "source": [
    "Links:\n",
    "- https://www.bankofcanada.ca/rates/interest-rates/canadian-bonds/\n",
    "- https://ca.finance.yahoo.com/quote/AAPL?p=AAPL&.tsrc=fin-tre-srch\n",
    "- https://investor.vanguard.com/etf/profile/performance/voo\n",
    "- https://grow.acorns.com/warren-buffett-index-funds/\n",
    "\n"
   ]
  },
  {
   "cell_type": "markdown",
   "metadata": {
    "colab_type": "text",
    "id": "_OtNKjlXS5YR"
   },
   "source": [
    "# TASK #2: IMPORT LIBRARIES & DATASETS AND PERFORM DATA VISUALIZATION"
   ]
  },
  {
   "cell_type": "code",
   "execution_count": null,
   "metadata": {
    "colab": {},
    "colab_type": "code",
    "id": "4j9CzvYyRjq3"
   },
   "outputs": [],
   "source": [
    "from google.colab import drive\n",
    "drive.mount('/content/drive')"
   ]
  },
  {
   "cell_type": "code",
   "execution_count": null,
   "metadata": {
    "colab": {},
    "colab_type": "code",
    "id": "TMxtZdEjRjoc"
   },
   "outputs": [],
   "source": [
    "import pandas as pd\n",
    "import plotly.express as px\n",
    "from copy import copy\n",
    "from scipy import stats\n",
    "import matplotlib.pyplot as plt\n",
    "import numpy as np\n",
    "import plotly.figure_factory as ff\n",
    "import plotly.graph_objects as go"
   ]
  },
  {
   "cell_type": "code",
   "execution_count": null,
   "metadata": {
    "colab": {},
    "colab_type": "code",
    "id": "rjnkqEJzRjtC"
   },
   "outputs": [],
   "source": [
    "# Read the stock data file\n"
   ]
  },
  {
   "cell_type": "code",
   "execution_count": null,
   "metadata": {
    "colab": {},
    "colab_type": "code",
    "id": "O-iq0rQVRysa"
   },
   "outputs": [],
   "source": [
    "# Sort the data based on Date\n"
   ]
  },
  {
   "cell_type": "markdown",
   "metadata": {
    "colab_type": "text",
    "id": "Y3RoHYBBcR-x"
   },
   "source": [
    "**MINI CHALLENGE #1:** \n",
    "- **Use Plotly express to visualize raw stock data and normalized ones** "
   ]
  },
  {
   "cell_type": "code",
   "execution_count": null,
   "metadata": {
    "colab": {},
    "colab_type": "code",
    "id": "wbF3MU65cTXg"
   },
   "outputs": [],
   "source": []
  },
  {
   "cell_type": "code",
   "execution_count": null,
   "metadata": {
    "colab": {},
    "colab_type": "code",
    "id": "huDamT6YEit8"
   },
   "outputs": [],
   "source": []
  },
  {
   "cell_type": "code",
   "execution_count": null,
   "metadata": {
    "colab": {},
    "colab_type": "code",
    "id": "hYF0JHUeEisT"
   },
   "outputs": [],
   "source": []
  },
  {
   "cell_type": "code",
   "execution_count": null,
   "metadata": {
    "colab": {},
    "colab_type": "code",
    "id": "14x8-kTVEip7"
   },
   "outputs": [],
   "source": []
  },
  {
   "cell_type": "markdown",
   "metadata": {
    "colab_type": "text",
    "id": "i3iec4kDdqFh"
   },
   "source": [
    "# TASK #3: UNERSTAND THE CONCEPT OF ASSET ALLOCATION"
   ]
  },
  {
   "cell_type": "markdown",
   "metadata": {
    "colab_type": "text",
    "id": "I-JZLZnfYWtf"
   },
   "source": [
    "![alt text](https://drive.google.com/uc?id=17SLLaxLeP6vlXH6MltEQMFNbt5u-J6iK)"
   ]
  },
  {
   "cell_type": "markdown",
   "metadata": {
    "colab_type": "text",
    "id": "W_EpPAcSYWqD"
   },
   "source": [
    "![alt text](https://drive.google.com/uc?id=1qLML-ejBIKR8Bv8aeItfNaJuhq5GzvJ5)"
   ]
  },
  {
   "cell_type": "markdown",
   "metadata": {
    "colab_type": "text",
    "id": "Uc05TkRjYWnQ"
   },
   "source": [
    "![alt text](https://drive.google.com/uc?id=1iR3WYvU9SYVRqhKwR91x0AsE5sGQtFhz)"
   ]
  },
  {
   "cell_type": "markdown",
   "metadata": {
    "colab_type": "text",
    "id": "-nvTQjfrfapS"
   },
   "source": [
    "**MINI CHALLENGE #2:**\n",
    "- **What is the common advice that financial advisors generally give to retired seniors when it comes to asset allocations?**"
   ]
  },
  {
   "cell_type": "code",
   "execution_count": null,
   "metadata": {
    "colab": {},
    "colab_type": "code",
    "id": "pNFI_hnshyVv"
   },
   "outputs": [],
   "source": []
  },
  {
   "cell_type": "markdown",
   "metadata": {
    "colab_type": "text",
    "id": "NYaUBZZTcnkP"
   },
   "source": [
    "# TASK #4: PERFORM RANDOM ASSET ALLOCATION AND CALCULATE PORTFOLIO DAILY RETURN"
   ]
  },
  {
   "cell_type": "code",
   "execution_count": null,
   "metadata": {
    "colab": {},
    "colab_type": "code",
    "id": "oCeDaFXwPd9y"
   },
   "outputs": [],
   "source": []
  },
  {
   "cell_type": "code",
   "execution_count": null,
   "metadata": {
    "colab": {},
    "colab_type": "code",
    "id": "YcAl_cZ8fTwG"
   },
   "outputs": [],
   "source": [
    "\n"
   ]
  },
  {
   "cell_type": "code",
   "execution_count": null,
   "metadata": {
    "colab": {},
    "colab_type": "code",
    "id": "F2LHZ6wMCkf6"
   },
   "outputs": [],
   "source": [
    "# Normalize the stock avalues \n"
   ]
  },
  {
   "cell_type": "code",
   "execution_count": null,
   "metadata": {
    "colab": {},
    "colab_type": "code",
    "id": "i0-eJzYJREHn"
   },
   "outputs": [],
   "source": []
  },
  {
   "cell_type": "code",
   "execution_count": null,
   "metadata": {
    "colab": {},
    "colab_type": "code",
    "id": "5UouSEtdDY_3"
   },
   "outputs": [],
   "source": []
  },
  {
   "cell_type": "code",
   "execution_count": null,
   "metadata": {
    "colab": {},
    "colab_type": "code",
    "id": "m9aZjynJDDYA"
   },
   "outputs": [],
   "source": [
    "# Note that enumerate returns the value and a counter as well\n",
    "\n"
   ]
  },
  {
   "cell_type": "code",
   "execution_count": null,
   "metadata": {
    "colab": {},
    "colab_type": "code",
    "id": "Ly7b_-PAEccl"
   },
   "outputs": [],
   "source": [
    "# Let's create an additional column that contains the sum of all $ values in the portfolio\n"
   ]
  },
  {
   "cell_type": "code",
   "execution_count": null,
   "metadata": {
    "colab": {},
    "colab_type": "code",
    "id": "ESTlNEIqFFyb"
   },
   "outputs": [],
   "source": [
    "# Let's calculate the portfolio daily return \n",
    "# Define a new column in the dataframe and set it to zeros\n",
    "\n",
    "\n"
   ]
  },
  {
   "cell_type": "markdown",
   "metadata": {
    "colab_type": "text",
    "id": "fRVJOiB7c9ey"
   },
   "source": [
    "**MINI CHALLENGE #3:** \n",
    "- **Try at least 3 another random weights allocation and rerun the code.** \n",
    "- **Compare the final portfolio value on Aug 11th, 2020 to its initial value ($1M) on January 12th, 2012. Do you notice a big difference? Comment on your answer.**"
   ]
  },
  {
   "cell_type": "code",
   "execution_count": null,
   "metadata": {
    "colab": {},
    "colab_type": "code",
    "id": "DRlf2k49iBlF"
   },
   "outputs": [],
   "source": []
  },
  {
   "cell_type": "markdown",
   "metadata": {
    "colab_type": "text",
    "id": "5FYcMzJcGWo-"
   },
   "source": [
    "# TASK #5: PORTFOLIO ALLOCATION - DAILY RETURN/WORTH CALCULATION (FUNCTION)"
   ]
  },
  {
   "cell_type": "code",
   "execution_count": null,
   "metadata": {
    "colab": {},
    "colab_type": "code",
    "id": "1UtoXcsdW4H_"
   },
   "outputs": [],
   "source": [
    "# Lets assume we have $1,000,000 to be invested and we will allocate this fund based on the weights of the stocks\n",
    "# We will create a function that takes in the stock prices along with the weights and return:\n",
    "# (1) Daily value of each individual securuty in $ over the specified time period\n",
    "# (2) Overall daily worth of the entire portfolio \n",
    "# (3) Daily return \n",
    "\n",
    "\n",
    "\n",
    "\n",
    "\n"
   ]
  },
  {
   "cell_type": "markdown",
   "metadata": {
    "colab_type": "text",
    "id": "V9Ouphi3iIyG"
   },
   "source": [
    "**MINI CHALLENGE #4:**\n",
    "- **Call the function and ensure that the results make sense**"
   ]
  },
  {
   "cell_type": "code",
   "execution_count": null,
   "metadata": {
    "colab": {},
    "colab_type": "code",
    "id": "XGpuUb1-iiJ_"
   },
   "outputs": [],
   "source": []
  },
  {
   "cell_type": "markdown",
   "metadata": {
    "colab_type": "text",
    "id": "QaaDNPBKeR3B"
   },
   "source": [
    "# TASK #6: PERFORM PORTFOLIO DATA VISUALIZATION"
   ]
  },
  {
   "cell_type": "code",
   "execution_count": null,
   "metadata": {
    "colab": {},
    "colab_type": "code",
    "id": "puoioqEbf-1l"
   },
   "outputs": [],
   "source": [
    "# Plot the portfolio daily return\n"
   ]
  },
  {
   "cell_type": "code",
   "execution_count": null,
   "metadata": {
    "colab": {},
    "colab_type": "code",
    "id": "vPqNoj1Eu8Uf"
   },
   "outputs": [],
   "source": [
    "# Plot all stocks (normalized)\n",
    "\n"
   ]
  },
  {
   "cell_type": "code",
   "execution_count": null,
   "metadata": {
    "colab": {},
    "colab_type": "code",
    "id": "dvZgEqmrcMSW"
   },
   "outputs": [],
   "source": [
    "# Print out a histogram of daily returns\n"
   ]
  },
  {
   "cell_type": "markdown",
   "metadata": {
    "colab_type": "text",
    "id": "6Kc7ehObjsMw"
   },
   "source": [
    "**MINI CHALLENGE #5:** \n",
    "- **Plot the portfolio overall daily worth vs. time.**\n",
    "- **Rerun the code with various weights and visualize the final value.** "
   ]
  },
  {
   "cell_type": "code",
   "execution_count": null,
   "metadata": {
    "colab": {},
    "colab_type": "code",
    "id": "lqj1T2fpkEOH"
   },
   "outputs": [],
   "source": []
  },
  {
   "cell_type": "markdown",
   "metadata": {
    "colab_type": "text",
    "id": "L2ONFl4_PCR2"
   },
   "source": [
    "# TASK #7: UNDERSTAND PORTFOLIO STATISTICAL METRICS (CUMMULATIVE RETURN, AVERAGE DAILY RETURN, AND SHARPE RATIO)"
   ]
  },
  {
   "cell_type": "markdown",
   "metadata": {
    "colab_type": "text",
    "id": "vkWIchSSZZ2j"
   },
   "source": [
    "![alt text](https://drive.google.com/uc?id=1W_MNP2Qldn3ulrvXivOnjQg3NTf3hNCo)"
   ]
  },
  {
   "cell_type": "markdown",
   "metadata": {
    "colab_type": "text",
    "id": "O9qTQWZWZZ_n"
   },
   "source": [
    "![alt text](https://drive.google.com/uc?id=12e4Zgxv1FNviJYML88G6cTnlte0bts-4)"
   ]
  },
  {
   "cell_type": "markdown",
   "metadata": {
    "colab_type": "text",
    "id": "-wyQltQIYWkm"
   },
   "source": [
    "![alt text](https://drive.google.com/uc?id=1QQLWpIJ8uXopJrV40YFKb5H-SxnmsRaj)"
   ]
  },
  {
   "cell_type": "markdown",
   "metadata": {
    "colab_type": "text",
    "id": "-e-K4SPXkPju"
   },
   "source": [
    "# TASK #8: CALCULATE PORTFOLIO STATISTICAL METRICS (CUMMULATIVE RETURN, AVERAGE DAILY RETURN, AND SHARPE RATIO)"
   ]
  },
  {
   "cell_type": "code",
   "execution_count": null,
   "metadata": {
    "colab": {},
    "colab_type": "code",
    "id": "441cVMptPzZr"
   },
   "outputs": [],
   "source": []
  },
  {
   "cell_type": "code",
   "execution_count": null,
   "metadata": {
    "colab": {},
    "colab_type": "code",
    "id": "Vd6MiyWm6kXm"
   },
   "outputs": [],
   "source": []
  },
  {
   "cell_type": "code",
   "execution_count": null,
   "metadata": {
    "colab": {},
    "colab_type": "code",
    "id": "YqPKVo7qP35r"
   },
   "outputs": [],
   "source": [
    "# Cummulative return of the portfolio (Note that we now look for the last net worth of the portfolio compared to it's start value)\n"
   ]
  },
  {
   "cell_type": "code",
   "execution_count": null,
   "metadata": {
    "colab": {},
    "colab_type": "code",
    "id": "OQ5XsTjTZgR3"
   },
   "outputs": [],
   "source": [
    "# Calculate the portfolio standard deviation\n"
   ]
  },
  {
   "cell_type": "code",
   "execution_count": null,
   "metadata": {
    "colab": {},
    "colab_type": "code",
    "id": "O4z2t-BSZjyl"
   },
   "outputs": [],
   "source": [
    "# Calculate the average daily return \n"
   ]
  },
  {
   "cell_type": "code",
   "execution_count": null,
   "metadata": {
    "colab": {},
    "colab_type": "code",
    "id": "BdOQ0kc5ixdY"
   },
   "outputs": [],
   "source": [
    "# Portfolio sharpe ratio\n"
   ]
  },
  {
   "cell_type": "markdown",
   "metadata": {
    "colab_type": "text",
    "id": "Z-or4p7_kcGF"
   },
   "source": [
    "**MINI CHALLENGE #6:** \n",
    "- **Try at least 3 different random weights allocation, rerun the code and compare sharpe ratios, daily return and cummulative returns.**"
   ]
  },
  {
   "cell_type": "code",
   "execution_count": null,
   "metadata": {
    "colab": {},
    "colab_type": "code",
    "id": "VMI7vjo5kX0V"
   },
   "outputs": [],
   "source": []
  },
  {
   "cell_type": "markdown",
   "metadata": {
    "colab_type": "text",
    "id": "YTqxFEP7xEJl"
   },
   "source": [
    "# **WELL DONE!**"
   ]
  },
  {
   "cell_type": "markdown",
   "metadata": {
    "colab_type": "text",
    "id": "Y2UYMbaecCcW"
   },
   "source": [
    "# **MINI CHALLENGE SOLUTIONS**"
   ]
  },
  {
   "cell_type": "markdown",
   "metadata": {
    "colab_type": "text",
    "id": "mj4oaI5va0lF"
   },
   "source": [
    "**MINI CHALLENGE #1 SOLUTION:** \n",
    "- **Use Plotly express to visualize raw stock data and normalized ones** "
   ]
  },
  {
   "cell_type": "code",
   "execution_count": null,
   "metadata": {
    "colab": {},
    "colab_type": "code",
    "id": "329hiIB9SUN_"
   },
   "outputs": [],
   "source": [
    "# Function to normalize the prices based on the initial price\n",
    "def normalize(df):\n",
    "  x = df.copy()\n",
    "  for i in x.columns[1:]:\n",
    "    x[i] = x[i]/x[i][0]\n",
    "  return x"
   ]
  },
  {
   "cell_type": "code",
   "execution_count": null,
   "metadata": {
    "colab": {},
    "colab_type": "code",
    "id": "0GDAgQaySUQb"
   },
   "outputs": [],
   "source": [
    "# Function to plot interactive plot\n",
    "def interactive_plot(df, title):\n",
    "  fig = px.line(title = title)\n",
    "  for i in df.columns[1:]:\n",
    "    fig.add_scatter(x = df['Date'], y = df[i], name = i)\n",
    "  fig.show()"
   ]
  },
  {
   "cell_type": "code",
   "execution_count": null,
   "metadata": {
    "colab": {},
    "colab_type": "code",
    "id": "6RxpH51ISUTS"
   },
   "outputs": [],
   "source": [
    "# Plot interactive chart\n",
    "interactive_plot(stocks_df, 'Prices')"
   ]
  },
  {
   "cell_type": "code",
   "execution_count": null,
   "metadata": {
    "colab": {},
    "colab_type": "code",
    "id": "GRc-WGmyTX85"
   },
   "outputs": [],
   "source": [
    "# Plot normalized interactive chart\n",
    "interactive_plot(normalize(stocks_df), 'Normalized Prices')"
   ]
  },
  {
   "cell_type": "markdown",
   "metadata": {
    "colab_type": "text",
    "id": "OOPqPtcrhpjY"
   },
   "source": [
    "**MINI CHALLENGE #2 SOLUTION:**\n",
    "- **What is the common advice that financial advisors generally recommend to retired seniors when it comes to asset allocations?**"
   ]
  },
  {
   "cell_type": "code",
   "execution_count": null,
   "metadata": {
    "colab": {},
    "colab_type": "code",
    "id": "PcMYTf_0fwJh"
   },
   "outputs": [],
   "source": [
    "# The conventional wisdom is to subtract client's age from 100 to calculate the % of portolio that should be allocated to stocks\n",
    "# For Example: If you're 30 years old, you should have 70% allocated to stocks\n",
    "# If you are 75 years old, you should invest 25% in stocks (old retired seniors generally recommend a more stable low risk portfolio). "
   ]
  },
  {
   "cell_type": "markdown",
   "metadata": {
    "colab_type": "text",
    "id": "ZK9UrsUBfMKi"
   },
   "source": [
    "**MINI CHALLENGE #3 SOLUTION:** \n",
    "- **Try at least 3 another random weights allocation and rerun the code.** \n",
    "- **Compare the final portfolio value on Aug 11th, 2020 to its initial value ($1M) on January 12th, 2012. Do you notice a big difference? Comment on your answer.**"
   ]
  },
  {
   "cell_type": "code",
   "execution_count": null,
   "metadata": {
    "colab": {},
    "colab_type": "code",
    "id": "mUKMgi7CdlGh"
   },
   "outputs": [],
   "source": [
    "# remove the seed value of 101, run the code 3 times, and record the final portolio value on the last day (Aug 11th, 2020)\n",
    "np.random.seed()\n",
    "\n",
    "# Portfolio Value Run #1 = $6.383645e+06, weights = [0.01246531 0.23749173 0.18257962 0.03419922 0.08369018 0.23405306\n",
    " 0.07120053 0.00824087 0.13607948]\n",
    "\n",
    "# Portfolio Value Run #2 = $9.594104e+06, Weights = [0.13932903 0.04729773 0.15580758 0.03232255 0.0629491  0.15081605\n",
    " 0.12206726 0.16938746 0.12002324]\n",
    "\n",
    "# Portfolio Value Run #3 = 1.138105e+07, Weights = [0.17707261 0.06977804 0.02394314 0.1550952  0.11152213 0.12017452\n",
    " 0.14296447 0.05729485 0.14215505]"
   ]
  },
  {
   "cell_type": "markdown",
   "metadata": {
    "colab_type": "text",
    "id": "tFlpXzk7ibOZ"
   },
   "source": [
    "**MINI CHALLENGE #4 SOLUTION:**\n",
    "- **Call the function and ensure that the results make sense**"
   ]
  },
  {
   "cell_type": "code",
   "execution_count": null,
   "metadata": {
    "colab": {},
    "colab_type": "code",
    "id": "b-Ck69O2oX17"
   },
   "outputs": [],
   "source": [
    "# Call the function\n",
    "df_portfolio = portfolio_allocation(stocks_df, weights)\n",
    "df_portfolio"
   ]
  },
  {
   "cell_type": "markdown",
   "metadata": {
    "colab_type": "text",
    "id": "QDFMwr5GjKwX"
   },
   "source": [
    "**MINI CHALLENGE #5 SOLUTION:** \n",
    "- **Plot the portfolio overall daily worth vs. time.**\n",
    "- **Rerun the code with various weights and visualize the final value.** "
   ]
  },
  {
   "cell_type": "code",
   "execution_count": null,
   "metadata": {
    "colab": {},
    "colab_type": "code",
    "id": "6O2v5bQEhPJ9"
   },
   "outputs": [],
   "source": [
    "fig = px.line(x = df_portfolio.Date, y = df_portfolio['portfolio daily worth in $'], title= 'Portfolio Overall Value in $')\n",
    "fig.show()"
   ]
  },
  {
   "cell_type": "markdown",
   "metadata": {
    "colab_type": "text",
    "id": "8hqlM9IOksYx"
   },
   "source": [
    "**MINI CHALLENGE #6 SOLUTION:** \n",
    "- **Try at least 3 different random weights allocation, rerun the code and compare sharpe ratios, daily return and cummulative returns.**"
   ]
  },
  {
   "cell_type": "code",
   "execution_count": null,
   "metadata": {
    "colab": {},
    "colab_type": "code",
    "id": "UjdtFqnZktyD"
   },
   "outputs": [],
   "source": [
    "# Rerun the code with 3 random values and compare metrics"
   ]
  },
  {
   "cell_type": "code",
   "execution_count": null,
   "metadata": {
    "colab": {},
    "colab_type": "code",
    "id": "VQLCjQhnk1b_"
   },
   "outputs": [],
   "source": []
  }
 ],
 "metadata": {
  "colab": {
   "authorship_tag": "ABX9TyN3Akc9Hv2crJmYgOTL0Col",
   "collapsed_sections": [],
   "name": "Finance 101 - Portfolio Assets Allocation and Statistical Data Analysis - Skeleton.ipynb",
   "provenance": []
  },
  "kernelspec": {
   "display_name": "Python 3",
   "language": "python",
   "name": "python3"
  },
  "language_info": {
   "codemirror_mode": {
    "name": "ipython",
    "version": 3
   },
   "file_extension": ".py",
   "mimetype": "text/x-python",
   "name": "python",
   "nbconvert_exporter": "python",
   "pygments_lexer": "ipython3",
   "version": "3.7.4"
  }
 },
 "nbformat": 4,
 "nbformat_minor": 1
}
