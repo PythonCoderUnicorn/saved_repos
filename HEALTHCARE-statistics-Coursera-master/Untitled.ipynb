{
 "cells": [
  {
   "cell_type": "markdown",
   "metadata": {},
   "source": [
    "# data visualization with Altair"
   ]
  },
  {
   "cell_type": "code",
   "execution_count": 1,
   "metadata": {},
   "outputs": [],
   "source": [
    "import pandas as pd\n",
    "import altair as alt"
   ]
  },
  {
   "cell_type": "code",
   "execution_count": 2,
   "metadata": {},
   "outputs": [
    {
     "data": {
      "text/html": [
       "<div>\n",
       "<style scoped>\n",
       "    .dataframe tbody tr th:only-of-type {\n",
       "        vertical-align: middle;\n",
       "    }\n",
       "\n",
       "    .dataframe tbody tr th {\n",
       "        vertical-align: top;\n",
       "    }\n",
       "\n",
       "    .dataframe thead th {\n",
       "        text-align: right;\n",
       "    }\n",
       "</style>\n",
       "<table border=\"1\" class=\"dataframe\">\n",
       "  <thead>\n",
       "    <tr style=\"text-align: right;\">\n",
       "      <th></th>\n",
       "      <th>SampleID</th>\n",
       "      <th>Type</th>\n",
       "      <th>Grade</th>\n",
       "      <th>MeasureA</th>\n",
       "      <th>MeasureB</th>\n",
       "      <th>MeasureC</th>\n",
       "    </tr>\n",
       "  </thead>\n",
       "  <tbody>\n",
       "    <tr>\n",
       "      <th>0</th>\n",
       "      <td>1</td>\n",
       "      <td>I</td>\n",
       "      <td>2</td>\n",
       "      <td>25</td>\n",
       "      <td>31.3</td>\n",
       "      <td>110.189147</td>\n",
       "    </tr>\n",
       "    <tr>\n",
       "      <th>1</th>\n",
       "      <td>2</td>\n",
       "      <td>II</td>\n",
       "      <td>4</td>\n",
       "      <td>22</td>\n",
       "      <td>23.8</td>\n",
       "      <td>99.619512</td>\n",
       "    </tr>\n",
       "    <tr>\n",
       "      <th>2</th>\n",
       "      <td>3</td>\n",
       "      <td>I</td>\n",
       "      <td>3</td>\n",
       "      <td>22</td>\n",
       "      <td>27.6</td>\n",
       "      <td>87.551602</td>\n",
       "    </tr>\n",
       "    <tr>\n",
       "      <th>3</th>\n",
       "      <td>4</td>\n",
       "      <td>II</td>\n",
       "      <td>2</td>\n",
       "      <td>28</td>\n",
       "      <td>33.2</td>\n",
       "      <td>85.567347</td>\n",
       "    </tr>\n",
       "    <tr>\n",
       "      <th>4</th>\n",
       "      <td>5</td>\n",
       "      <td>II</td>\n",
       "      <td>4</td>\n",
       "      <td>30</td>\n",
       "      <td>31.8</td>\n",
       "      <td>110.270053</td>\n",
       "    </tr>\n",
       "  </tbody>\n",
       "</table>\n",
       "</div>"
      ],
      "text/plain": [
       "   SampleID Type  Grade  MeasureA  MeasureB    MeasureC\n",
       "0         1    I      2        25      31.3  110.189147\n",
       "1         2   II      4        22      23.8   99.619512\n",
       "2         3    I      3        22      27.6   87.551602\n",
       "3         4   II      2        28      33.2   85.567347\n",
       "4         5   II      4        30      31.8  110.270053"
      ]
     },
     "execution_count": 2,
     "metadata": {},
     "output_type": "execute_result"
    }
   ],
   "source": [
    "df = pd.read_csv('./DATA/Altair.csv')\n",
    "df.head()"
   ]
  },
  {
   "cell_type": "code",
   "execution_count": 8,
   "metadata": {},
   "outputs": [],
   "source": [
    "chart= alt.Chart(df)"
   ]
  },
  {
   "cell_type": "code",
   "execution_count": 9,
   "metadata": {},
   "outputs": [
    {
     "data": {
      "text/plain": [
       "altair.vegalite.v4.api.Chart"
      ]
     },
     "execution_count": 9,
     "metadata": {},
     "output_type": "execute_result"
    }
   ],
   "source": [
    "type(chart)"
   ]
  },
  {
   "cell_type": "code",
   "execution_count": 10,
   "metadata": {},
   "outputs": [
    {
     "data": {
      "text/html": [
       "\n",
       "<div id=\"altair-viz-96013f27fe65478b94088a34c7f460f7\"></div>\n",
       "<script type=\"text/javascript\">\n",
       "  (function(spec, embedOpt){\n",
       "    let outputDiv = document.currentScript.previousElementSibling;\n",
       "    if (outputDiv.id !== \"altair-viz-96013f27fe65478b94088a34c7f460f7\") {\n",
       "      outputDiv = document.getElementById(\"altair-viz-96013f27fe65478b94088a34c7f460f7\");\n",
       "    }\n",
       "    const paths = {\n",
       "      \"vega\": \"https://cdn.jsdelivr.net/npm//vega@5?noext\",\n",
       "      \"vega-lib\": \"https://cdn.jsdelivr.net/npm//vega-lib?noext\",\n",
       "      \"vega-lite\": \"https://cdn.jsdelivr.net/npm//vega-lite@4.8.1?noext\",\n",
       "      \"vega-embed\": \"https://cdn.jsdelivr.net/npm//vega-embed@6?noext\",\n",
       "    };\n",
       "\n",
       "    function loadScript(lib) {\n",
       "      return new Promise(function(resolve, reject) {\n",
       "        var s = document.createElement('script');\n",
       "        s.src = paths[lib];\n",
       "        s.async = true;\n",
       "        s.onload = () => resolve(paths[lib]);\n",
       "        s.onerror = () => reject(`Error loading script: ${paths[lib]}`);\n",
       "        document.getElementsByTagName(\"head\")[0].appendChild(s);\n",
       "      });\n",
       "    }\n",
       "\n",
       "    function showError(err) {\n",
       "      outputDiv.innerHTML = `<div class=\"error\" style=\"color:red;\">${err}</div>`;\n",
       "      throw err;\n",
       "    }\n",
       "\n",
       "    function displayChart(vegaEmbed) {\n",
       "      vegaEmbed(outputDiv, spec, embedOpt)\n",
       "        .catch(err => showError(`Javascript Error: ${err.message}<br>This usually means there's a typo in your chart specification. See the javascript console for the full traceback.`));\n",
       "    }\n",
       "\n",
       "    if(typeof define === \"function\" && define.amd) {\n",
       "      requirejs.config({paths});\n",
       "      require([\"vega-embed\"], displayChart, err => showError(`Error loading script: ${err.message}`));\n",
       "    } else if (typeof vegaEmbed === \"function\") {\n",
       "      displayChart(vegaEmbed);\n",
       "    } else {\n",
       "      loadScript(\"vega\")\n",
       "        .then(() => loadScript(\"vega-lite\"))\n",
       "        .then(() => loadScript(\"vega-embed\"))\n",
       "        .catch(showError)\n",
       "        .then(() => displayChart(vegaEmbed));\n",
       "    }\n",
       "  })({\"config\": {\"view\": {\"continuousWidth\": 400, \"continuousHeight\": 300}}, \"data\": {\"name\": \"data-12c7931658fd8ba8c314feae2d6976ec\"}, \"mark\": \"point\", \"encoding\": {\"x\": {\"type\": \"quantitative\", \"field\": \"MeasureA\"}}, \"$schema\": \"https://vega.github.io/schema/vega-lite/v4.8.1.json\", \"datasets\": {\"data-12c7931658fd8ba8c314feae2d6976ec\": [{\"SampleID\": 1, \"Type\": \"I\", \"Grade\": 2, \"MeasureA\": 25, \"MeasureB\": 31.3, \"MeasureC\": 110.1891467}, {\"SampleID\": 2, \"Type\": \"II\", \"Grade\": 4, \"MeasureA\": 22, \"MeasureB\": 23.8, \"MeasureC\": 99.61951223}, {\"SampleID\": 3, \"Type\": \"I\", \"Grade\": 3, \"MeasureA\": 22, \"MeasureB\": 27.6, \"MeasureC\": 87.55160191}, {\"SampleID\": 4, \"Type\": \"II\", \"Grade\": 2, \"MeasureA\": 28, \"MeasureB\": 33.2, \"MeasureC\": 85.56734707}, {\"SampleID\": 5, \"Type\": \"II\", \"Grade\": 4, \"MeasureA\": 30, \"MeasureB\": 31.8, \"MeasureC\": 110.2700532}, {\"SampleID\": 6, \"Type\": \"I\", \"Grade\": 3, \"MeasureA\": 26, \"MeasureB\": 26.4, \"MeasureC\": 99.84167892}, {\"SampleID\": 7, \"Type\": \"I\", \"Grade\": 2, \"MeasureA\": 26, \"MeasureB\": 33.7, \"MeasureC\": 76.78406754}, {\"SampleID\": 8, \"Type\": \"II\", \"Grade\": 3, \"MeasureA\": 28, \"MeasureB\": 35.8, \"MeasureC\": 92.68980598}, {\"SampleID\": 9, \"Type\": \"I\", \"Grade\": 4, \"MeasureA\": 23, \"MeasureB\": 25.0, \"MeasureC\": 105.32929320000001}, {\"SampleID\": 10, \"Type\": \"II\", \"Grade\": 2, \"MeasureA\": 25, \"MeasureB\": 26.9, \"MeasureC\": 102.76676280000001}, {\"SampleID\": 11, \"Type\": \"II\", \"Grade\": 4, \"MeasureA\": 26, \"MeasureB\": 32.8, \"MeasureC\": 103.1580788}, {\"SampleID\": 12, \"Type\": \"I\", \"Grade\": 3, \"MeasureA\": 22, \"MeasureB\": 28.9, \"MeasureC\": 99.63755467}, {\"SampleID\": 13, \"Type\": \"I\", \"Grade\": 2, \"MeasureA\": 28, \"MeasureB\": 36.5, \"MeasureC\": 93.36849383}, {\"SampleID\": 14, \"Type\": \"II\", \"Grade\": 4, \"MeasureA\": 24, \"MeasureB\": 27.3, \"MeasureC\": 104.72578299999999}, {\"SampleID\": 15, \"Type\": \"I\", \"Grade\": 3, \"MeasureA\": 22, \"MeasureB\": 27.9, \"MeasureC\": 87.67951762}, {\"SampleID\": 16, \"Type\": \"II\", \"Grade\": 2, \"MeasureA\": 23, \"MeasureB\": 25.4, \"MeasureC\": 93.92992221}, {\"SampleID\": 17, \"Type\": \"II\", \"Grade\": 3, \"MeasureA\": 24, \"MeasureB\": 28.5, \"MeasureC\": 102.38532070000001}, {\"SampleID\": 18, \"Type\": \"I\", \"Grade\": 4, \"MeasureA\": 27, \"MeasureB\": 36.7, \"MeasureC\": 100.0448647}, {\"SampleID\": 19, \"Type\": \"I\", \"Grade\": 2, \"MeasureA\": 21, \"MeasureB\": 29.5, \"MeasureC\": 96.14677609}, {\"SampleID\": 20, \"Type\": \"II\", \"Grade\": 4, \"MeasureA\": 25, \"MeasureB\": 25.5, \"MeasureC\": 90.05849090000001}, {\"SampleID\": 21, \"Type\": \"I\", \"Grade\": 3, \"MeasureA\": 26, \"MeasureB\": 33.2, \"MeasureC\": 106.29058570000001}, {\"SampleID\": 22, \"Type\": \"II\", \"Grade\": 2, \"MeasureA\": 20, \"MeasureB\": 26.7, \"MeasureC\": 110.90124469999999}, {\"SampleID\": 23, \"Type\": \"II\", \"Grade\": 4, \"MeasureA\": 24, \"MeasureB\": 29.0, \"MeasureC\": 102.91239250000001}, {\"SampleID\": 24, \"Type\": \"I\", \"Grade\": 3, \"MeasureA\": 26, \"MeasureB\": 34.6, \"MeasureC\": 109.59891929999999}, {\"SampleID\": 25, \"Type\": \"I\", \"Grade\": 2, \"MeasureA\": 20, \"MeasureB\": 25.6, \"MeasureC\": 120.30922050000001}, {\"SampleID\": 26, \"Type\": \"II\", \"Grade\": 3, \"MeasureA\": 29, \"MeasureB\": 30.7, \"MeasureC\": 80.76294849}, {\"SampleID\": 27, \"Type\": \"I\", \"Grade\": 4, \"MeasureA\": 25, \"MeasureB\": 27.4, \"MeasureC\": 90.33607983}, {\"SampleID\": 28, \"Type\": \"II\", \"Grade\": 2, \"MeasureA\": 23, \"MeasureB\": 25.1, \"MeasureC\": 111.3001142}, {\"SampleID\": 29, \"Type\": \"II\", \"Grade\": 4, \"MeasureA\": 22, \"MeasureB\": 30.4, \"MeasureC\": 111.3810443}, {\"SampleID\": 30, \"Type\": \"I\", \"Grade\": 3, \"MeasureA\": 29, \"MeasureB\": 36.5, \"MeasureC\": 113.3473012}, {\"SampleID\": 31, \"Type\": \"I\", \"Grade\": 2, \"MeasureA\": 21, \"MeasureB\": 27.0, \"MeasureC\": 99.29337329}, {\"SampleID\": 32, \"Type\": \"II\", \"Grade\": 4, \"MeasureA\": 30, \"MeasureB\": 30.3, \"MeasureC\": 102.409397}, {\"SampleID\": 33, \"Type\": \"I\", \"Grade\": 3, \"MeasureA\": 21, \"MeasureB\": 24.9, \"MeasureC\": 94.59506272}, {\"SampleID\": 34, \"Type\": \"II\", \"Grade\": 2, \"MeasureA\": 23, \"MeasureB\": 29.5, \"MeasureC\": 105.072395}, {\"SampleID\": 35, \"Type\": \"II\", \"Grade\": 3, \"MeasureA\": 27, \"MeasureB\": 29.4, \"MeasureC\": 95.22285424}, {\"SampleID\": 36, \"Type\": \"I\", \"Grade\": 4, \"MeasureA\": 28, \"MeasureB\": 31.9, \"MeasureC\": 115.8428138}, {\"SampleID\": 37, \"Type\": \"I\", \"Grade\": 2, \"MeasureA\": 29, \"MeasureB\": 33.8, \"MeasureC\": 93.20039257}, {\"SampleID\": 38, \"Type\": \"II\", \"Grade\": 4, \"MeasureA\": 26, \"MeasureB\": 34.5, \"MeasureC\": 91.80364222}, {\"SampleID\": 39, \"Type\": \"I\", \"Grade\": 3, \"MeasureA\": 28, \"MeasureB\": 28.7, \"MeasureC\": 105.1201517}, {\"SampleID\": 40, \"Type\": \"II\", \"Grade\": 2, \"MeasureA\": 20, \"MeasureB\": 20.9, \"MeasureC\": 89.95307887}, {\"SampleID\": 41, \"Type\": \"II\", \"Grade\": 4, \"MeasureA\": 25, \"MeasureB\": 29.4, \"MeasureC\": 100.082686}, {\"SampleID\": 42, \"Type\": \"I\", \"Grade\": 3, \"MeasureA\": 20, \"MeasureB\": 23.8, \"MeasureC\": 105.1388602}, {\"SampleID\": 43, \"Type\": \"I\", \"Grade\": 2, \"MeasureA\": 25, \"MeasureB\": 27.7, \"MeasureC\": 96.57069437}, {\"SampleID\": 44, \"Type\": \"II\", \"Grade\": 3, \"MeasureA\": 29, \"MeasureB\": 31.0, \"MeasureC\": 89.02825048}, {\"SampleID\": 45, \"Type\": \"I\", \"Grade\": 4, \"MeasureA\": 27, \"MeasureB\": 28.1, \"MeasureC\": 115.9905033}, {\"SampleID\": 46, \"Type\": \"II\", \"Grade\": 2, \"MeasureA\": 24, \"MeasureB\": 33.1, \"MeasureC\": 109.68080619999999}, {\"SampleID\": 47, \"Type\": \"II\", \"Grade\": 4, \"MeasureA\": 25, \"MeasureB\": 25.5, \"MeasureC\": 97.9233459}, {\"SampleID\": 48, \"Type\": \"I\", \"Grade\": 3, \"MeasureA\": 23, \"MeasureB\": 27.4, \"MeasureC\": 91.43744805}, {\"SampleID\": 49, \"Type\": \"I\", \"Grade\": 2, \"MeasureA\": 24, \"MeasureB\": 29.4, \"MeasureC\": 89.17425205}, {\"SampleID\": 50, \"Type\": \"II\", \"Grade\": 4, \"MeasureA\": 23, \"MeasureB\": 30.9, \"MeasureC\": 104.5168731}, {\"SampleID\": 51, \"Type\": \"I\", \"Grade\": 3, \"MeasureA\": 23, \"MeasureB\": 31.3, \"MeasureC\": 120.85900990000002}, {\"SampleID\": 52, \"Type\": \"II\", \"Grade\": 2, \"MeasureA\": 26, \"MeasureB\": 34.5, \"MeasureC\": 103.1805883}, {\"SampleID\": 53, \"Type\": \"II\", \"Grade\": 3, \"MeasureA\": 20, \"MeasureB\": 22.7, \"MeasureC\": 92.01241296}, {\"SampleID\": 54, \"Type\": \"I\", \"Grade\": 4, \"MeasureA\": 26, \"MeasureB\": 33.8, \"MeasureC\": 98.24382294}, {\"SampleID\": 55, \"Type\": \"I\", \"Grade\": 2, \"MeasureA\": 28, \"MeasureB\": 37.9, \"MeasureC\": 112.62168059999999}, {\"SampleID\": 56, \"Type\": \"II\", \"Grade\": 4, \"MeasureA\": 30, \"MeasureB\": 32.5, \"MeasureC\": 114.50576370000002}, {\"SampleID\": 57, \"Type\": \"I\", \"Grade\": 3, \"MeasureA\": 29, \"MeasureB\": 32.1, \"MeasureC\": 85.65551755}, {\"SampleID\": 58, \"Type\": \"II\", \"Grade\": 2, \"MeasureA\": 21, \"MeasureB\": 22.6, \"MeasureC\": 99.92775192}, {\"SampleID\": 59, \"Type\": \"II\", \"Grade\": 4, \"MeasureA\": 20, \"MeasureB\": 29.4, \"MeasureC\": 101.7370707}, {\"SampleID\": 60, \"Type\": \"I\", \"Grade\": 3, \"MeasureA\": 29, \"MeasureB\": 32.3, \"MeasureC\": 104.6963938}, {\"SampleID\": 61, \"Type\": \"I\", \"Grade\": 2, \"MeasureA\": 30, \"MeasureB\": 35.1, \"MeasureC\": 90.68274837}, {\"SampleID\": 62, \"Type\": \"II\", \"Grade\": 3, \"MeasureA\": 22, \"MeasureB\": 28.6, \"MeasureC\": 104.945687}, {\"SampleID\": 63, \"Type\": \"I\", \"Grade\": 4, \"MeasureA\": 27, \"MeasureB\": 35.2, \"MeasureC\": 100.5862524}, {\"SampleID\": 64, \"Type\": \"II\", \"Grade\": 2, \"MeasureA\": 22, \"MeasureB\": 28.3, \"MeasureC\": 101.96641540000002}, {\"SampleID\": 65, \"Type\": \"II\", \"Grade\": 4, \"MeasureA\": 30, \"MeasureB\": 37.5, \"MeasureC\": 117.92385759999999}, {\"SampleID\": 66, \"Type\": \"I\", \"Grade\": 3, \"MeasureA\": 24, \"MeasureB\": 32.7, \"MeasureC\": 99.11348868}, {\"SampleID\": 67, \"Type\": \"I\", \"Grade\": 2, \"MeasureA\": 28, \"MeasureB\": 34.6, \"MeasureC\": 87.66866232}, {\"SampleID\": 68, \"Type\": \"II\", \"Grade\": 4, \"MeasureA\": 22, \"MeasureB\": 29.5, \"MeasureC\": 103.8499839}, {\"SampleID\": 69, \"Type\": \"I\", \"Grade\": 3, \"MeasureA\": 27, \"MeasureB\": 37.0, \"MeasureC\": 105.52171000000001}, {\"SampleID\": 70, \"Type\": \"II\", \"Grade\": 2, \"MeasureA\": 28, \"MeasureB\": 29.2, \"MeasureC\": 98.54170359}, {\"SampleID\": 71, \"Type\": \"II\", \"Grade\": 3, \"MeasureA\": 23, \"MeasureB\": 24.1, \"MeasureC\": 102.9014881}, {\"SampleID\": 72, \"Type\": \"I\", \"Grade\": 4, \"MeasureA\": 30, \"MeasureB\": 33.6, \"MeasureC\": 96.67562447}, {\"SampleID\": 73, \"Type\": \"I\", \"Grade\": 2, \"MeasureA\": 27, \"MeasureB\": 32.0, \"MeasureC\": 103.6666286}, {\"SampleID\": 74, \"Type\": \"II\", \"Grade\": 4, \"MeasureA\": 23, \"MeasureB\": 27.4, \"MeasureC\": 96.26970859}, {\"SampleID\": 75, \"Type\": \"I\", \"Grade\": 3, \"MeasureA\": 25, \"MeasureB\": 33.6, \"MeasureC\": 97.88947741}, {\"SampleID\": 76, \"Type\": \"II\", \"Grade\": 2, \"MeasureA\": 26, \"MeasureB\": 33.4, \"MeasureC\": 89.36824634}, {\"SampleID\": 77, \"Type\": \"II\", \"Grade\": 4, \"MeasureA\": 27, \"MeasureB\": 29.8, \"MeasureC\": 79.41290868}, {\"SampleID\": 78, \"Type\": \"I\", \"Grade\": 3, \"MeasureA\": 25, \"MeasureB\": 31.9, \"MeasureC\": 111.6602743}, {\"SampleID\": 79, \"Type\": \"I\", \"Grade\": 2, \"MeasureA\": 23, \"MeasureB\": 30.5, \"MeasureC\": 118.6330966}, {\"SampleID\": 80, \"Type\": \"II\", \"Grade\": 3, \"MeasureA\": 28, \"MeasureB\": 37.8, \"MeasureC\": 102.78337590000001}, {\"SampleID\": 81, \"Type\": \"I\", \"Grade\": 4, \"MeasureA\": 27, \"MeasureB\": 29.1, \"MeasureC\": 105.0360624}, {\"SampleID\": 82, \"Type\": \"II\", \"Grade\": 2, \"MeasureA\": 28, \"MeasureB\": 34.2, \"MeasureC\": 92.0825595}, {\"SampleID\": 83, \"Type\": \"II\", \"Grade\": 4, \"MeasureA\": 29, \"MeasureB\": 35.9, \"MeasureC\": 95.7516333}, {\"SampleID\": 84, \"Type\": \"I\", \"Grade\": 3, \"MeasureA\": 23, \"MeasureB\": 26.5, \"MeasureC\": 92.06924539}, {\"SampleID\": 85, \"Type\": \"I\", \"Grade\": 2, \"MeasureA\": 20, \"MeasureB\": 23.1, \"MeasureC\": 86.0933612}, {\"SampleID\": 86, \"Type\": \"II\", \"Grade\": 4, \"MeasureA\": 25, \"MeasureB\": 25.5, \"MeasureC\": 112.45179250000001}, {\"SampleID\": 87, \"Type\": \"I\", \"Grade\": 3, \"MeasureA\": 22, \"MeasureB\": 25.0, \"MeasureC\": 104.4103507}, {\"SampleID\": 88, \"Type\": \"II\", \"Grade\": 2, \"MeasureA\": 29, \"MeasureB\": 34.3, \"MeasureC\": 98.8985973}, {\"SampleID\": 89, \"Type\": \"II\", \"Grade\": 3, \"MeasureA\": 23, \"MeasureB\": 26.1, \"MeasureC\": 96.47799202}, {\"SampleID\": 90, \"Type\": \"I\", \"Grade\": 4, \"MeasureA\": 24, \"MeasureB\": 30.4, \"MeasureC\": 101.1108615}, {\"SampleID\": 91, \"Type\": \"I\", \"Grade\": 2, \"MeasureA\": 27, \"MeasureB\": 33.4, \"MeasureC\": 98.05828612}, {\"SampleID\": 92, \"Type\": \"II\", \"Grade\": 4, \"MeasureA\": 24, \"MeasureB\": 25.9, \"MeasureC\": 112.3727757}, {\"SampleID\": 93, \"Type\": \"I\", \"Grade\": 3, \"MeasureA\": 24, \"MeasureB\": 30.1, \"MeasureC\": 91.94633635}, {\"SampleID\": 94, \"Type\": \"II\", \"Grade\": 2, \"MeasureA\": 21, \"MeasureB\": 28.5, \"MeasureC\": 115.33205919999999}, {\"SampleID\": 95, \"Type\": \"II\", \"Grade\": 4, \"MeasureA\": 29, \"MeasureB\": 29.2, \"MeasureC\": 96.69564868}, {\"SampleID\": 96, \"Type\": \"I\", \"Grade\": 3, \"MeasureA\": 21, \"MeasureB\": 25.0, \"MeasureC\": 103.2237425}, {\"SampleID\": 97, \"Type\": \"I\", \"Grade\": 2, \"MeasureA\": 26, \"MeasureB\": 26.4, \"MeasureC\": 101.13002009999998}, {\"SampleID\": 98, \"Type\": \"II\", \"Grade\": 3, \"MeasureA\": 21, \"MeasureB\": 24.0, \"MeasureC\": 117.7524212}, {\"SampleID\": 99, \"Type\": \"I\", \"Grade\": 4, \"MeasureA\": 30, \"MeasureB\": 36.3, \"MeasureC\": 101.52279990000001}, {\"SampleID\": 100, \"Type\": \"II\", \"Grade\": 2, \"MeasureA\": 23, \"MeasureB\": 29.3, \"MeasureC\": 80.16592453}]}}, {\"mode\": \"vega-lite\"});\n",
       "</script>"
      ],
      "text/plain": [
       "alt.Chart(...)"
      ]
     },
     "execution_count": 10,
     "metadata": {},
     "output_type": "execute_result"
    }
   ],
   "source": [
    "chart.mark_point().encode(x='MeasureA')"
   ]
  },
  {
   "cell_type": "code",
   "execution_count": 11,
   "metadata": {},
   "outputs": [
    {
     "data": {
      "text/html": [
       "\n",
       "<div id=\"altair-viz-22cade515d74400b8c3d771b4f058ff6\"></div>\n",
       "<script type=\"text/javascript\">\n",
       "  (function(spec, embedOpt){\n",
       "    let outputDiv = document.currentScript.previousElementSibling;\n",
       "    if (outputDiv.id !== \"altair-viz-22cade515d74400b8c3d771b4f058ff6\") {\n",
       "      outputDiv = document.getElementById(\"altair-viz-22cade515d74400b8c3d771b4f058ff6\");\n",
       "    }\n",
       "    const paths = {\n",
       "      \"vega\": \"https://cdn.jsdelivr.net/npm//vega@5?noext\",\n",
       "      \"vega-lib\": \"https://cdn.jsdelivr.net/npm//vega-lib?noext\",\n",
       "      \"vega-lite\": \"https://cdn.jsdelivr.net/npm//vega-lite@4.8.1?noext\",\n",
       "      \"vega-embed\": \"https://cdn.jsdelivr.net/npm//vega-embed@6?noext\",\n",
       "    };\n",
       "\n",
       "    function loadScript(lib) {\n",
       "      return new Promise(function(resolve, reject) {\n",
       "        var s = document.createElement('script');\n",
       "        s.src = paths[lib];\n",
       "        s.async = true;\n",
       "        s.onload = () => resolve(paths[lib]);\n",
       "        s.onerror = () => reject(`Error loading script: ${paths[lib]}`);\n",
       "        document.getElementsByTagName(\"head\")[0].appendChild(s);\n",
       "      });\n",
       "    }\n",
       "\n",
       "    function showError(err) {\n",
       "      outputDiv.innerHTML = `<div class=\"error\" style=\"color:red;\">${err}</div>`;\n",
       "      throw err;\n",
       "    }\n",
       "\n",
       "    function displayChart(vegaEmbed) {\n",
       "      vegaEmbed(outputDiv, spec, embedOpt)\n",
       "        .catch(err => showError(`Javascript Error: ${err.message}<br>This usually means there's a typo in your chart specification. See the javascript console for the full traceback.`));\n",
       "    }\n",
       "\n",
       "    if(typeof define === \"function\" && define.amd) {\n",
       "      requirejs.config({paths});\n",
       "      require([\"vega-embed\"], displayChart, err => showError(`Error loading script: ${err.message}`));\n",
       "    } else if (typeof vegaEmbed === \"function\") {\n",
       "      displayChart(vegaEmbed);\n",
       "    } else {\n",
       "      loadScript(\"vega\")\n",
       "        .then(() => loadScript(\"vega-lite\"))\n",
       "        .then(() => loadScript(\"vega-embed\"))\n",
       "        .catch(showError)\n",
       "        .then(() => displayChart(vegaEmbed));\n",
       "    }\n",
       "  })({\"config\": {\"view\": {\"continuousWidth\": 400, \"continuousHeight\": 300}}, \"data\": {\"name\": \"data-12c7931658fd8ba8c314feae2d6976ec\"}, \"mark\": \"point\", \"encoding\": {\"x\": {\"type\": \"nominal\", \"field\": \"Type\"}, \"y\": {\"type\": \"quantitative\", \"field\": \"MeasureA\"}}, \"$schema\": \"https://vega.github.io/schema/vega-lite/v4.8.1.json\", \"datasets\": {\"data-12c7931658fd8ba8c314feae2d6976ec\": [{\"SampleID\": 1, \"Type\": \"I\", \"Grade\": 2, \"MeasureA\": 25, \"MeasureB\": 31.3, \"MeasureC\": 110.1891467}, {\"SampleID\": 2, \"Type\": \"II\", \"Grade\": 4, \"MeasureA\": 22, \"MeasureB\": 23.8, \"MeasureC\": 99.61951223}, {\"SampleID\": 3, \"Type\": \"I\", \"Grade\": 3, \"MeasureA\": 22, \"MeasureB\": 27.6, \"MeasureC\": 87.55160191}, {\"SampleID\": 4, \"Type\": \"II\", \"Grade\": 2, \"MeasureA\": 28, \"MeasureB\": 33.2, \"MeasureC\": 85.56734707}, {\"SampleID\": 5, \"Type\": \"II\", \"Grade\": 4, \"MeasureA\": 30, \"MeasureB\": 31.8, \"MeasureC\": 110.2700532}, {\"SampleID\": 6, \"Type\": \"I\", \"Grade\": 3, \"MeasureA\": 26, \"MeasureB\": 26.4, \"MeasureC\": 99.84167892}, {\"SampleID\": 7, \"Type\": \"I\", \"Grade\": 2, \"MeasureA\": 26, \"MeasureB\": 33.7, \"MeasureC\": 76.78406754}, {\"SampleID\": 8, \"Type\": \"II\", \"Grade\": 3, \"MeasureA\": 28, \"MeasureB\": 35.8, \"MeasureC\": 92.68980598}, {\"SampleID\": 9, \"Type\": \"I\", \"Grade\": 4, \"MeasureA\": 23, \"MeasureB\": 25.0, \"MeasureC\": 105.32929320000001}, {\"SampleID\": 10, \"Type\": \"II\", \"Grade\": 2, \"MeasureA\": 25, \"MeasureB\": 26.9, \"MeasureC\": 102.76676280000001}, {\"SampleID\": 11, \"Type\": \"II\", \"Grade\": 4, \"MeasureA\": 26, \"MeasureB\": 32.8, \"MeasureC\": 103.1580788}, {\"SampleID\": 12, \"Type\": \"I\", \"Grade\": 3, \"MeasureA\": 22, \"MeasureB\": 28.9, \"MeasureC\": 99.63755467}, {\"SampleID\": 13, \"Type\": \"I\", \"Grade\": 2, \"MeasureA\": 28, \"MeasureB\": 36.5, \"MeasureC\": 93.36849383}, {\"SampleID\": 14, \"Type\": \"II\", \"Grade\": 4, \"MeasureA\": 24, \"MeasureB\": 27.3, \"MeasureC\": 104.72578299999999}, {\"SampleID\": 15, \"Type\": \"I\", \"Grade\": 3, \"MeasureA\": 22, \"MeasureB\": 27.9, \"MeasureC\": 87.67951762}, {\"SampleID\": 16, \"Type\": \"II\", \"Grade\": 2, \"MeasureA\": 23, \"MeasureB\": 25.4, \"MeasureC\": 93.92992221}, {\"SampleID\": 17, \"Type\": \"II\", \"Grade\": 3, \"MeasureA\": 24, \"MeasureB\": 28.5, \"MeasureC\": 102.38532070000001}, {\"SampleID\": 18, \"Type\": \"I\", \"Grade\": 4, \"MeasureA\": 27, \"MeasureB\": 36.7, \"MeasureC\": 100.0448647}, {\"SampleID\": 19, \"Type\": \"I\", \"Grade\": 2, \"MeasureA\": 21, \"MeasureB\": 29.5, \"MeasureC\": 96.14677609}, {\"SampleID\": 20, \"Type\": \"II\", \"Grade\": 4, \"MeasureA\": 25, \"MeasureB\": 25.5, \"MeasureC\": 90.05849090000001}, {\"SampleID\": 21, \"Type\": \"I\", \"Grade\": 3, \"MeasureA\": 26, \"MeasureB\": 33.2, \"MeasureC\": 106.29058570000001}, {\"SampleID\": 22, \"Type\": \"II\", \"Grade\": 2, \"MeasureA\": 20, \"MeasureB\": 26.7, \"MeasureC\": 110.90124469999999}, {\"SampleID\": 23, \"Type\": \"II\", \"Grade\": 4, \"MeasureA\": 24, \"MeasureB\": 29.0, \"MeasureC\": 102.91239250000001}, {\"SampleID\": 24, \"Type\": \"I\", \"Grade\": 3, \"MeasureA\": 26, \"MeasureB\": 34.6, \"MeasureC\": 109.59891929999999}, {\"SampleID\": 25, \"Type\": \"I\", \"Grade\": 2, \"MeasureA\": 20, \"MeasureB\": 25.6, \"MeasureC\": 120.30922050000001}, {\"SampleID\": 26, \"Type\": \"II\", \"Grade\": 3, \"MeasureA\": 29, \"MeasureB\": 30.7, \"MeasureC\": 80.76294849}, {\"SampleID\": 27, \"Type\": \"I\", \"Grade\": 4, \"MeasureA\": 25, \"MeasureB\": 27.4, \"MeasureC\": 90.33607983}, {\"SampleID\": 28, \"Type\": \"II\", \"Grade\": 2, \"MeasureA\": 23, \"MeasureB\": 25.1, \"MeasureC\": 111.3001142}, {\"SampleID\": 29, \"Type\": \"II\", \"Grade\": 4, \"MeasureA\": 22, \"MeasureB\": 30.4, \"MeasureC\": 111.3810443}, {\"SampleID\": 30, \"Type\": \"I\", \"Grade\": 3, \"MeasureA\": 29, \"MeasureB\": 36.5, \"MeasureC\": 113.3473012}, {\"SampleID\": 31, \"Type\": \"I\", \"Grade\": 2, \"MeasureA\": 21, \"MeasureB\": 27.0, \"MeasureC\": 99.29337329}, {\"SampleID\": 32, \"Type\": \"II\", \"Grade\": 4, \"MeasureA\": 30, \"MeasureB\": 30.3, \"MeasureC\": 102.409397}, {\"SampleID\": 33, \"Type\": \"I\", \"Grade\": 3, \"MeasureA\": 21, \"MeasureB\": 24.9, \"MeasureC\": 94.59506272}, {\"SampleID\": 34, \"Type\": \"II\", \"Grade\": 2, \"MeasureA\": 23, \"MeasureB\": 29.5, \"MeasureC\": 105.072395}, {\"SampleID\": 35, \"Type\": \"II\", \"Grade\": 3, \"MeasureA\": 27, \"MeasureB\": 29.4, \"MeasureC\": 95.22285424}, {\"SampleID\": 36, \"Type\": \"I\", \"Grade\": 4, \"MeasureA\": 28, \"MeasureB\": 31.9, \"MeasureC\": 115.8428138}, {\"SampleID\": 37, \"Type\": \"I\", \"Grade\": 2, \"MeasureA\": 29, \"MeasureB\": 33.8, \"MeasureC\": 93.20039257}, {\"SampleID\": 38, \"Type\": \"II\", \"Grade\": 4, \"MeasureA\": 26, \"MeasureB\": 34.5, \"MeasureC\": 91.80364222}, {\"SampleID\": 39, \"Type\": \"I\", \"Grade\": 3, \"MeasureA\": 28, \"MeasureB\": 28.7, \"MeasureC\": 105.1201517}, {\"SampleID\": 40, \"Type\": \"II\", \"Grade\": 2, \"MeasureA\": 20, \"MeasureB\": 20.9, \"MeasureC\": 89.95307887}, {\"SampleID\": 41, \"Type\": \"II\", \"Grade\": 4, \"MeasureA\": 25, \"MeasureB\": 29.4, \"MeasureC\": 100.082686}, {\"SampleID\": 42, \"Type\": \"I\", \"Grade\": 3, \"MeasureA\": 20, \"MeasureB\": 23.8, \"MeasureC\": 105.1388602}, {\"SampleID\": 43, \"Type\": \"I\", \"Grade\": 2, \"MeasureA\": 25, \"MeasureB\": 27.7, \"MeasureC\": 96.57069437}, {\"SampleID\": 44, \"Type\": \"II\", \"Grade\": 3, \"MeasureA\": 29, \"MeasureB\": 31.0, \"MeasureC\": 89.02825048}, {\"SampleID\": 45, \"Type\": \"I\", \"Grade\": 4, \"MeasureA\": 27, \"MeasureB\": 28.1, \"MeasureC\": 115.9905033}, {\"SampleID\": 46, \"Type\": \"II\", \"Grade\": 2, \"MeasureA\": 24, \"MeasureB\": 33.1, \"MeasureC\": 109.68080619999999}, {\"SampleID\": 47, \"Type\": \"II\", \"Grade\": 4, \"MeasureA\": 25, \"MeasureB\": 25.5, \"MeasureC\": 97.9233459}, {\"SampleID\": 48, \"Type\": \"I\", \"Grade\": 3, \"MeasureA\": 23, \"MeasureB\": 27.4, \"MeasureC\": 91.43744805}, {\"SampleID\": 49, \"Type\": \"I\", \"Grade\": 2, \"MeasureA\": 24, \"MeasureB\": 29.4, \"MeasureC\": 89.17425205}, {\"SampleID\": 50, \"Type\": \"II\", \"Grade\": 4, \"MeasureA\": 23, \"MeasureB\": 30.9, \"MeasureC\": 104.5168731}, {\"SampleID\": 51, \"Type\": \"I\", \"Grade\": 3, \"MeasureA\": 23, \"MeasureB\": 31.3, \"MeasureC\": 120.85900990000002}, {\"SampleID\": 52, \"Type\": \"II\", \"Grade\": 2, \"MeasureA\": 26, \"MeasureB\": 34.5, \"MeasureC\": 103.1805883}, {\"SampleID\": 53, \"Type\": \"II\", \"Grade\": 3, \"MeasureA\": 20, \"MeasureB\": 22.7, \"MeasureC\": 92.01241296}, {\"SampleID\": 54, \"Type\": \"I\", \"Grade\": 4, \"MeasureA\": 26, \"MeasureB\": 33.8, \"MeasureC\": 98.24382294}, {\"SampleID\": 55, \"Type\": \"I\", \"Grade\": 2, \"MeasureA\": 28, \"MeasureB\": 37.9, \"MeasureC\": 112.62168059999999}, {\"SampleID\": 56, \"Type\": \"II\", \"Grade\": 4, \"MeasureA\": 30, \"MeasureB\": 32.5, \"MeasureC\": 114.50576370000002}, {\"SampleID\": 57, \"Type\": \"I\", \"Grade\": 3, \"MeasureA\": 29, \"MeasureB\": 32.1, \"MeasureC\": 85.65551755}, {\"SampleID\": 58, \"Type\": \"II\", \"Grade\": 2, \"MeasureA\": 21, \"MeasureB\": 22.6, \"MeasureC\": 99.92775192}, {\"SampleID\": 59, \"Type\": \"II\", \"Grade\": 4, \"MeasureA\": 20, \"MeasureB\": 29.4, \"MeasureC\": 101.7370707}, {\"SampleID\": 60, \"Type\": \"I\", \"Grade\": 3, \"MeasureA\": 29, \"MeasureB\": 32.3, \"MeasureC\": 104.6963938}, {\"SampleID\": 61, \"Type\": \"I\", \"Grade\": 2, \"MeasureA\": 30, \"MeasureB\": 35.1, \"MeasureC\": 90.68274837}, {\"SampleID\": 62, \"Type\": \"II\", \"Grade\": 3, \"MeasureA\": 22, \"MeasureB\": 28.6, \"MeasureC\": 104.945687}, {\"SampleID\": 63, \"Type\": \"I\", \"Grade\": 4, \"MeasureA\": 27, \"MeasureB\": 35.2, \"MeasureC\": 100.5862524}, {\"SampleID\": 64, \"Type\": \"II\", \"Grade\": 2, \"MeasureA\": 22, \"MeasureB\": 28.3, \"MeasureC\": 101.96641540000002}, {\"SampleID\": 65, \"Type\": \"II\", \"Grade\": 4, \"MeasureA\": 30, \"MeasureB\": 37.5, \"MeasureC\": 117.92385759999999}, {\"SampleID\": 66, \"Type\": \"I\", \"Grade\": 3, \"MeasureA\": 24, \"MeasureB\": 32.7, \"MeasureC\": 99.11348868}, {\"SampleID\": 67, \"Type\": \"I\", \"Grade\": 2, \"MeasureA\": 28, \"MeasureB\": 34.6, \"MeasureC\": 87.66866232}, {\"SampleID\": 68, \"Type\": \"II\", \"Grade\": 4, \"MeasureA\": 22, \"MeasureB\": 29.5, \"MeasureC\": 103.8499839}, {\"SampleID\": 69, \"Type\": \"I\", \"Grade\": 3, \"MeasureA\": 27, \"MeasureB\": 37.0, \"MeasureC\": 105.52171000000001}, {\"SampleID\": 70, \"Type\": \"II\", \"Grade\": 2, \"MeasureA\": 28, \"MeasureB\": 29.2, \"MeasureC\": 98.54170359}, {\"SampleID\": 71, \"Type\": \"II\", \"Grade\": 3, \"MeasureA\": 23, \"MeasureB\": 24.1, \"MeasureC\": 102.9014881}, {\"SampleID\": 72, \"Type\": \"I\", \"Grade\": 4, \"MeasureA\": 30, \"MeasureB\": 33.6, \"MeasureC\": 96.67562447}, {\"SampleID\": 73, \"Type\": \"I\", \"Grade\": 2, \"MeasureA\": 27, \"MeasureB\": 32.0, \"MeasureC\": 103.6666286}, {\"SampleID\": 74, \"Type\": \"II\", \"Grade\": 4, \"MeasureA\": 23, \"MeasureB\": 27.4, \"MeasureC\": 96.26970859}, {\"SampleID\": 75, \"Type\": \"I\", \"Grade\": 3, \"MeasureA\": 25, \"MeasureB\": 33.6, \"MeasureC\": 97.88947741}, {\"SampleID\": 76, \"Type\": \"II\", \"Grade\": 2, \"MeasureA\": 26, \"MeasureB\": 33.4, \"MeasureC\": 89.36824634}, {\"SampleID\": 77, \"Type\": \"II\", \"Grade\": 4, \"MeasureA\": 27, \"MeasureB\": 29.8, \"MeasureC\": 79.41290868}, {\"SampleID\": 78, \"Type\": \"I\", \"Grade\": 3, \"MeasureA\": 25, \"MeasureB\": 31.9, \"MeasureC\": 111.6602743}, {\"SampleID\": 79, \"Type\": \"I\", \"Grade\": 2, \"MeasureA\": 23, \"MeasureB\": 30.5, \"MeasureC\": 118.6330966}, {\"SampleID\": 80, \"Type\": \"II\", \"Grade\": 3, \"MeasureA\": 28, \"MeasureB\": 37.8, \"MeasureC\": 102.78337590000001}, {\"SampleID\": 81, \"Type\": \"I\", \"Grade\": 4, \"MeasureA\": 27, \"MeasureB\": 29.1, \"MeasureC\": 105.0360624}, {\"SampleID\": 82, \"Type\": \"II\", \"Grade\": 2, \"MeasureA\": 28, \"MeasureB\": 34.2, \"MeasureC\": 92.0825595}, {\"SampleID\": 83, \"Type\": \"II\", \"Grade\": 4, \"MeasureA\": 29, \"MeasureB\": 35.9, \"MeasureC\": 95.7516333}, {\"SampleID\": 84, \"Type\": \"I\", \"Grade\": 3, \"MeasureA\": 23, \"MeasureB\": 26.5, \"MeasureC\": 92.06924539}, {\"SampleID\": 85, \"Type\": \"I\", \"Grade\": 2, \"MeasureA\": 20, \"MeasureB\": 23.1, \"MeasureC\": 86.0933612}, {\"SampleID\": 86, \"Type\": \"II\", \"Grade\": 4, \"MeasureA\": 25, \"MeasureB\": 25.5, \"MeasureC\": 112.45179250000001}, {\"SampleID\": 87, \"Type\": \"I\", \"Grade\": 3, \"MeasureA\": 22, \"MeasureB\": 25.0, \"MeasureC\": 104.4103507}, {\"SampleID\": 88, \"Type\": \"II\", \"Grade\": 2, \"MeasureA\": 29, \"MeasureB\": 34.3, \"MeasureC\": 98.8985973}, {\"SampleID\": 89, \"Type\": \"II\", \"Grade\": 3, \"MeasureA\": 23, \"MeasureB\": 26.1, \"MeasureC\": 96.47799202}, {\"SampleID\": 90, \"Type\": \"I\", \"Grade\": 4, \"MeasureA\": 24, \"MeasureB\": 30.4, \"MeasureC\": 101.1108615}, {\"SampleID\": 91, \"Type\": \"I\", \"Grade\": 2, \"MeasureA\": 27, \"MeasureB\": 33.4, \"MeasureC\": 98.05828612}, {\"SampleID\": 92, \"Type\": \"II\", \"Grade\": 4, \"MeasureA\": 24, \"MeasureB\": 25.9, \"MeasureC\": 112.3727757}, {\"SampleID\": 93, \"Type\": \"I\", \"Grade\": 3, \"MeasureA\": 24, \"MeasureB\": 30.1, \"MeasureC\": 91.94633635}, {\"SampleID\": 94, \"Type\": \"II\", \"Grade\": 2, \"MeasureA\": 21, \"MeasureB\": 28.5, \"MeasureC\": 115.33205919999999}, {\"SampleID\": 95, \"Type\": \"II\", \"Grade\": 4, \"MeasureA\": 29, \"MeasureB\": 29.2, \"MeasureC\": 96.69564868}, {\"SampleID\": 96, \"Type\": \"I\", \"Grade\": 3, \"MeasureA\": 21, \"MeasureB\": 25.0, \"MeasureC\": 103.2237425}, {\"SampleID\": 97, \"Type\": \"I\", \"Grade\": 2, \"MeasureA\": 26, \"MeasureB\": 26.4, \"MeasureC\": 101.13002009999998}, {\"SampleID\": 98, \"Type\": \"II\", \"Grade\": 3, \"MeasureA\": 21, \"MeasureB\": 24.0, \"MeasureC\": 117.7524212}, {\"SampleID\": 99, \"Type\": \"I\", \"Grade\": 4, \"MeasureA\": 30, \"MeasureB\": 36.3, \"MeasureC\": 101.52279990000001}, {\"SampleID\": 100, \"Type\": \"II\", \"Grade\": 2, \"MeasureA\": 23, \"MeasureB\": 29.3, \"MeasureC\": 80.16592453}]}}, {\"mode\": \"vega-lite\"});\n",
       "</script>"
      ],
      "text/plain": [
       "alt.Chart(...)"
      ]
     },
     "execution_count": 11,
     "metadata": {},
     "output_type": "execute_result"
    }
   ],
   "source": [
    "chart.mark_point().encode(x='Type',\n",
    "                          y='MeasureA')"
   ]
  },
  {
   "cell_type": "code",
   "execution_count": 12,
   "metadata": {},
   "outputs": [
    {
     "data": {
      "text/html": [
       "\n",
       "<div id=\"altair-viz-8292d77e1a9b4aa4b4fb913ad6ccc036\"></div>\n",
       "<script type=\"text/javascript\">\n",
       "  (function(spec, embedOpt){\n",
       "    let outputDiv = document.currentScript.previousElementSibling;\n",
       "    if (outputDiv.id !== \"altair-viz-8292d77e1a9b4aa4b4fb913ad6ccc036\") {\n",
       "      outputDiv = document.getElementById(\"altair-viz-8292d77e1a9b4aa4b4fb913ad6ccc036\");\n",
       "    }\n",
       "    const paths = {\n",
       "      \"vega\": \"https://cdn.jsdelivr.net/npm//vega@5?noext\",\n",
       "      \"vega-lib\": \"https://cdn.jsdelivr.net/npm//vega-lib?noext\",\n",
       "      \"vega-lite\": \"https://cdn.jsdelivr.net/npm//vega-lite@4.8.1?noext\",\n",
       "      \"vega-embed\": \"https://cdn.jsdelivr.net/npm//vega-embed@6?noext\",\n",
       "    };\n",
       "\n",
       "    function loadScript(lib) {\n",
       "      return new Promise(function(resolve, reject) {\n",
       "        var s = document.createElement('script');\n",
       "        s.src = paths[lib];\n",
       "        s.async = true;\n",
       "        s.onload = () => resolve(paths[lib]);\n",
       "        s.onerror = () => reject(`Error loading script: ${paths[lib]}`);\n",
       "        document.getElementsByTagName(\"head\")[0].appendChild(s);\n",
       "      });\n",
       "    }\n",
       "\n",
       "    function showError(err) {\n",
       "      outputDiv.innerHTML = `<div class=\"error\" style=\"color:red;\">${err}</div>`;\n",
       "      throw err;\n",
       "    }\n",
       "\n",
       "    function displayChart(vegaEmbed) {\n",
       "      vegaEmbed(outputDiv, spec, embedOpt)\n",
       "        .catch(err => showError(`Javascript Error: ${err.message}<br>This usually means there's a typo in your chart specification. See the javascript console for the full traceback.`));\n",
       "    }\n",
       "\n",
       "    if(typeof define === \"function\" && define.amd) {\n",
       "      requirejs.config({paths});\n",
       "      require([\"vega-embed\"], displayChart, err => showError(`Error loading script: ${err.message}`));\n",
       "    } else if (typeof vegaEmbed === \"function\") {\n",
       "      displayChart(vegaEmbed);\n",
       "    } else {\n",
       "      loadScript(\"vega\")\n",
       "        .then(() => loadScript(\"vega-lite\"))\n",
       "        .then(() => loadScript(\"vega-embed\"))\n",
       "        .catch(showError)\n",
       "        .then(() => displayChart(vegaEmbed));\n",
       "    }\n",
       "  })({\"config\": {\"view\": {\"continuousWidth\": 400, \"continuousHeight\": 300}}, \"data\": {\"name\": \"data-12c7931658fd8ba8c314feae2d6976ec\"}, \"mark\": \"point\", \"encoding\": {\"x\": {\"type\": \"nominal\", \"field\": \"Type\"}, \"y\": {\"type\": \"quantitative\", \"aggregate\": \"average\", \"field\": \"MeasureA\"}}, \"$schema\": \"https://vega.github.io/schema/vega-lite/v4.8.1.json\", \"datasets\": {\"data-12c7931658fd8ba8c314feae2d6976ec\": [{\"SampleID\": 1, \"Type\": \"I\", \"Grade\": 2, \"MeasureA\": 25, \"MeasureB\": 31.3, \"MeasureC\": 110.1891467}, {\"SampleID\": 2, \"Type\": \"II\", \"Grade\": 4, \"MeasureA\": 22, \"MeasureB\": 23.8, \"MeasureC\": 99.61951223}, {\"SampleID\": 3, \"Type\": \"I\", \"Grade\": 3, \"MeasureA\": 22, \"MeasureB\": 27.6, \"MeasureC\": 87.55160191}, {\"SampleID\": 4, \"Type\": \"II\", \"Grade\": 2, \"MeasureA\": 28, \"MeasureB\": 33.2, \"MeasureC\": 85.56734707}, {\"SampleID\": 5, \"Type\": \"II\", \"Grade\": 4, \"MeasureA\": 30, \"MeasureB\": 31.8, \"MeasureC\": 110.2700532}, {\"SampleID\": 6, \"Type\": \"I\", \"Grade\": 3, \"MeasureA\": 26, \"MeasureB\": 26.4, \"MeasureC\": 99.84167892}, {\"SampleID\": 7, \"Type\": \"I\", \"Grade\": 2, \"MeasureA\": 26, \"MeasureB\": 33.7, \"MeasureC\": 76.78406754}, {\"SampleID\": 8, \"Type\": \"II\", \"Grade\": 3, \"MeasureA\": 28, \"MeasureB\": 35.8, \"MeasureC\": 92.68980598}, {\"SampleID\": 9, \"Type\": \"I\", \"Grade\": 4, \"MeasureA\": 23, \"MeasureB\": 25.0, \"MeasureC\": 105.32929320000001}, {\"SampleID\": 10, \"Type\": \"II\", \"Grade\": 2, \"MeasureA\": 25, \"MeasureB\": 26.9, \"MeasureC\": 102.76676280000001}, {\"SampleID\": 11, \"Type\": \"II\", \"Grade\": 4, \"MeasureA\": 26, \"MeasureB\": 32.8, \"MeasureC\": 103.1580788}, {\"SampleID\": 12, \"Type\": \"I\", \"Grade\": 3, \"MeasureA\": 22, \"MeasureB\": 28.9, \"MeasureC\": 99.63755467}, {\"SampleID\": 13, \"Type\": \"I\", \"Grade\": 2, \"MeasureA\": 28, \"MeasureB\": 36.5, \"MeasureC\": 93.36849383}, {\"SampleID\": 14, \"Type\": \"II\", \"Grade\": 4, \"MeasureA\": 24, \"MeasureB\": 27.3, \"MeasureC\": 104.72578299999999}, {\"SampleID\": 15, \"Type\": \"I\", \"Grade\": 3, \"MeasureA\": 22, \"MeasureB\": 27.9, \"MeasureC\": 87.67951762}, {\"SampleID\": 16, \"Type\": \"II\", \"Grade\": 2, \"MeasureA\": 23, \"MeasureB\": 25.4, \"MeasureC\": 93.92992221}, {\"SampleID\": 17, \"Type\": \"II\", \"Grade\": 3, \"MeasureA\": 24, \"MeasureB\": 28.5, \"MeasureC\": 102.38532070000001}, {\"SampleID\": 18, \"Type\": \"I\", \"Grade\": 4, \"MeasureA\": 27, \"MeasureB\": 36.7, \"MeasureC\": 100.0448647}, {\"SampleID\": 19, \"Type\": \"I\", \"Grade\": 2, \"MeasureA\": 21, \"MeasureB\": 29.5, \"MeasureC\": 96.14677609}, {\"SampleID\": 20, \"Type\": \"II\", \"Grade\": 4, \"MeasureA\": 25, \"MeasureB\": 25.5, \"MeasureC\": 90.05849090000001}, {\"SampleID\": 21, \"Type\": \"I\", \"Grade\": 3, \"MeasureA\": 26, \"MeasureB\": 33.2, \"MeasureC\": 106.29058570000001}, {\"SampleID\": 22, \"Type\": \"II\", \"Grade\": 2, \"MeasureA\": 20, \"MeasureB\": 26.7, \"MeasureC\": 110.90124469999999}, {\"SampleID\": 23, \"Type\": \"II\", \"Grade\": 4, \"MeasureA\": 24, \"MeasureB\": 29.0, \"MeasureC\": 102.91239250000001}, {\"SampleID\": 24, \"Type\": \"I\", \"Grade\": 3, \"MeasureA\": 26, \"MeasureB\": 34.6, \"MeasureC\": 109.59891929999999}, {\"SampleID\": 25, \"Type\": \"I\", \"Grade\": 2, \"MeasureA\": 20, \"MeasureB\": 25.6, \"MeasureC\": 120.30922050000001}, {\"SampleID\": 26, \"Type\": \"II\", \"Grade\": 3, \"MeasureA\": 29, \"MeasureB\": 30.7, \"MeasureC\": 80.76294849}, {\"SampleID\": 27, \"Type\": \"I\", \"Grade\": 4, \"MeasureA\": 25, \"MeasureB\": 27.4, \"MeasureC\": 90.33607983}, {\"SampleID\": 28, \"Type\": \"II\", \"Grade\": 2, \"MeasureA\": 23, \"MeasureB\": 25.1, \"MeasureC\": 111.3001142}, {\"SampleID\": 29, \"Type\": \"II\", \"Grade\": 4, \"MeasureA\": 22, \"MeasureB\": 30.4, \"MeasureC\": 111.3810443}, {\"SampleID\": 30, \"Type\": \"I\", \"Grade\": 3, \"MeasureA\": 29, \"MeasureB\": 36.5, \"MeasureC\": 113.3473012}, {\"SampleID\": 31, \"Type\": \"I\", \"Grade\": 2, \"MeasureA\": 21, \"MeasureB\": 27.0, \"MeasureC\": 99.29337329}, {\"SampleID\": 32, \"Type\": \"II\", \"Grade\": 4, \"MeasureA\": 30, \"MeasureB\": 30.3, \"MeasureC\": 102.409397}, {\"SampleID\": 33, \"Type\": \"I\", \"Grade\": 3, \"MeasureA\": 21, \"MeasureB\": 24.9, \"MeasureC\": 94.59506272}, {\"SampleID\": 34, \"Type\": \"II\", \"Grade\": 2, \"MeasureA\": 23, \"MeasureB\": 29.5, \"MeasureC\": 105.072395}, {\"SampleID\": 35, \"Type\": \"II\", \"Grade\": 3, \"MeasureA\": 27, \"MeasureB\": 29.4, \"MeasureC\": 95.22285424}, {\"SampleID\": 36, \"Type\": \"I\", \"Grade\": 4, \"MeasureA\": 28, \"MeasureB\": 31.9, \"MeasureC\": 115.8428138}, {\"SampleID\": 37, \"Type\": \"I\", \"Grade\": 2, \"MeasureA\": 29, \"MeasureB\": 33.8, \"MeasureC\": 93.20039257}, {\"SampleID\": 38, \"Type\": \"II\", \"Grade\": 4, \"MeasureA\": 26, \"MeasureB\": 34.5, \"MeasureC\": 91.80364222}, {\"SampleID\": 39, \"Type\": \"I\", \"Grade\": 3, \"MeasureA\": 28, \"MeasureB\": 28.7, \"MeasureC\": 105.1201517}, {\"SampleID\": 40, \"Type\": \"II\", \"Grade\": 2, \"MeasureA\": 20, \"MeasureB\": 20.9, \"MeasureC\": 89.95307887}, {\"SampleID\": 41, \"Type\": \"II\", \"Grade\": 4, \"MeasureA\": 25, \"MeasureB\": 29.4, \"MeasureC\": 100.082686}, {\"SampleID\": 42, \"Type\": \"I\", \"Grade\": 3, \"MeasureA\": 20, \"MeasureB\": 23.8, \"MeasureC\": 105.1388602}, {\"SampleID\": 43, \"Type\": \"I\", \"Grade\": 2, \"MeasureA\": 25, \"MeasureB\": 27.7, \"MeasureC\": 96.57069437}, {\"SampleID\": 44, \"Type\": \"II\", \"Grade\": 3, \"MeasureA\": 29, \"MeasureB\": 31.0, \"MeasureC\": 89.02825048}, {\"SampleID\": 45, \"Type\": \"I\", \"Grade\": 4, \"MeasureA\": 27, \"MeasureB\": 28.1, \"MeasureC\": 115.9905033}, {\"SampleID\": 46, \"Type\": \"II\", \"Grade\": 2, \"MeasureA\": 24, \"MeasureB\": 33.1, \"MeasureC\": 109.68080619999999}, {\"SampleID\": 47, \"Type\": \"II\", \"Grade\": 4, \"MeasureA\": 25, \"MeasureB\": 25.5, \"MeasureC\": 97.9233459}, {\"SampleID\": 48, \"Type\": \"I\", \"Grade\": 3, \"MeasureA\": 23, \"MeasureB\": 27.4, \"MeasureC\": 91.43744805}, {\"SampleID\": 49, \"Type\": \"I\", \"Grade\": 2, \"MeasureA\": 24, \"MeasureB\": 29.4, \"MeasureC\": 89.17425205}, {\"SampleID\": 50, \"Type\": \"II\", \"Grade\": 4, \"MeasureA\": 23, \"MeasureB\": 30.9, \"MeasureC\": 104.5168731}, {\"SampleID\": 51, \"Type\": \"I\", \"Grade\": 3, \"MeasureA\": 23, \"MeasureB\": 31.3, \"MeasureC\": 120.85900990000002}, {\"SampleID\": 52, \"Type\": \"II\", \"Grade\": 2, \"MeasureA\": 26, \"MeasureB\": 34.5, \"MeasureC\": 103.1805883}, {\"SampleID\": 53, \"Type\": \"II\", \"Grade\": 3, \"MeasureA\": 20, \"MeasureB\": 22.7, \"MeasureC\": 92.01241296}, {\"SampleID\": 54, \"Type\": \"I\", \"Grade\": 4, \"MeasureA\": 26, \"MeasureB\": 33.8, \"MeasureC\": 98.24382294}, {\"SampleID\": 55, \"Type\": \"I\", \"Grade\": 2, \"MeasureA\": 28, \"MeasureB\": 37.9, \"MeasureC\": 112.62168059999999}, {\"SampleID\": 56, \"Type\": \"II\", \"Grade\": 4, \"MeasureA\": 30, \"MeasureB\": 32.5, \"MeasureC\": 114.50576370000002}, {\"SampleID\": 57, \"Type\": \"I\", \"Grade\": 3, \"MeasureA\": 29, \"MeasureB\": 32.1, \"MeasureC\": 85.65551755}, {\"SampleID\": 58, \"Type\": \"II\", \"Grade\": 2, \"MeasureA\": 21, \"MeasureB\": 22.6, \"MeasureC\": 99.92775192}, {\"SampleID\": 59, \"Type\": \"II\", \"Grade\": 4, \"MeasureA\": 20, \"MeasureB\": 29.4, \"MeasureC\": 101.7370707}, {\"SampleID\": 60, \"Type\": \"I\", \"Grade\": 3, \"MeasureA\": 29, \"MeasureB\": 32.3, \"MeasureC\": 104.6963938}, {\"SampleID\": 61, \"Type\": \"I\", \"Grade\": 2, \"MeasureA\": 30, \"MeasureB\": 35.1, \"MeasureC\": 90.68274837}, {\"SampleID\": 62, \"Type\": \"II\", \"Grade\": 3, \"MeasureA\": 22, \"MeasureB\": 28.6, \"MeasureC\": 104.945687}, {\"SampleID\": 63, \"Type\": \"I\", \"Grade\": 4, \"MeasureA\": 27, \"MeasureB\": 35.2, \"MeasureC\": 100.5862524}, {\"SampleID\": 64, \"Type\": \"II\", \"Grade\": 2, \"MeasureA\": 22, \"MeasureB\": 28.3, \"MeasureC\": 101.96641540000002}, {\"SampleID\": 65, \"Type\": \"II\", \"Grade\": 4, \"MeasureA\": 30, \"MeasureB\": 37.5, \"MeasureC\": 117.92385759999999}, {\"SampleID\": 66, \"Type\": \"I\", \"Grade\": 3, \"MeasureA\": 24, \"MeasureB\": 32.7, \"MeasureC\": 99.11348868}, {\"SampleID\": 67, \"Type\": \"I\", \"Grade\": 2, \"MeasureA\": 28, \"MeasureB\": 34.6, \"MeasureC\": 87.66866232}, {\"SampleID\": 68, \"Type\": \"II\", \"Grade\": 4, \"MeasureA\": 22, \"MeasureB\": 29.5, \"MeasureC\": 103.8499839}, {\"SampleID\": 69, \"Type\": \"I\", \"Grade\": 3, \"MeasureA\": 27, \"MeasureB\": 37.0, \"MeasureC\": 105.52171000000001}, {\"SampleID\": 70, \"Type\": \"II\", \"Grade\": 2, \"MeasureA\": 28, \"MeasureB\": 29.2, \"MeasureC\": 98.54170359}, {\"SampleID\": 71, \"Type\": \"II\", \"Grade\": 3, \"MeasureA\": 23, \"MeasureB\": 24.1, \"MeasureC\": 102.9014881}, {\"SampleID\": 72, \"Type\": \"I\", \"Grade\": 4, \"MeasureA\": 30, \"MeasureB\": 33.6, \"MeasureC\": 96.67562447}, {\"SampleID\": 73, \"Type\": \"I\", \"Grade\": 2, \"MeasureA\": 27, \"MeasureB\": 32.0, \"MeasureC\": 103.6666286}, {\"SampleID\": 74, \"Type\": \"II\", \"Grade\": 4, \"MeasureA\": 23, \"MeasureB\": 27.4, \"MeasureC\": 96.26970859}, {\"SampleID\": 75, \"Type\": \"I\", \"Grade\": 3, \"MeasureA\": 25, \"MeasureB\": 33.6, \"MeasureC\": 97.88947741}, {\"SampleID\": 76, \"Type\": \"II\", \"Grade\": 2, \"MeasureA\": 26, \"MeasureB\": 33.4, \"MeasureC\": 89.36824634}, {\"SampleID\": 77, \"Type\": \"II\", \"Grade\": 4, \"MeasureA\": 27, \"MeasureB\": 29.8, \"MeasureC\": 79.41290868}, {\"SampleID\": 78, \"Type\": \"I\", \"Grade\": 3, \"MeasureA\": 25, \"MeasureB\": 31.9, \"MeasureC\": 111.6602743}, {\"SampleID\": 79, \"Type\": \"I\", \"Grade\": 2, \"MeasureA\": 23, \"MeasureB\": 30.5, \"MeasureC\": 118.6330966}, {\"SampleID\": 80, \"Type\": \"II\", \"Grade\": 3, \"MeasureA\": 28, \"MeasureB\": 37.8, \"MeasureC\": 102.78337590000001}, {\"SampleID\": 81, \"Type\": \"I\", \"Grade\": 4, \"MeasureA\": 27, \"MeasureB\": 29.1, \"MeasureC\": 105.0360624}, {\"SampleID\": 82, \"Type\": \"II\", \"Grade\": 2, \"MeasureA\": 28, \"MeasureB\": 34.2, \"MeasureC\": 92.0825595}, {\"SampleID\": 83, \"Type\": \"II\", \"Grade\": 4, \"MeasureA\": 29, \"MeasureB\": 35.9, \"MeasureC\": 95.7516333}, {\"SampleID\": 84, \"Type\": \"I\", \"Grade\": 3, \"MeasureA\": 23, \"MeasureB\": 26.5, \"MeasureC\": 92.06924539}, {\"SampleID\": 85, \"Type\": \"I\", \"Grade\": 2, \"MeasureA\": 20, \"MeasureB\": 23.1, \"MeasureC\": 86.0933612}, {\"SampleID\": 86, \"Type\": \"II\", \"Grade\": 4, \"MeasureA\": 25, \"MeasureB\": 25.5, \"MeasureC\": 112.45179250000001}, {\"SampleID\": 87, \"Type\": \"I\", \"Grade\": 3, \"MeasureA\": 22, \"MeasureB\": 25.0, \"MeasureC\": 104.4103507}, {\"SampleID\": 88, \"Type\": \"II\", \"Grade\": 2, \"MeasureA\": 29, \"MeasureB\": 34.3, \"MeasureC\": 98.8985973}, {\"SampleID\": 89, \"Type\": \"II\", \"Grade\": 3, \"MeasureA\": 23, \"MeasureB\": 26.1, \"MeasureC\": 96.47799202}, {\"SampleID\": 90, \"Type\": \"I\", \"Grade\": 4, \"MeasureA\": 24, \"MeasureB\": 30.4, \"MeasureC\": 101.1108615}, {\"SampleID\": 91, \"Type\": \"I\", \"Grade\": 2, \"MeasureA\": 27, \"MeasureB\": 33.4, \"MeasureC\": 98.05828612}, {\"SampleID\": 92, \"Type\": \"II\", \"Grade\": 4, \"MeasureA\": 24, \"MeasureB\": 25.9, \"MeasureC\": 112.3727757}, {\"SampleID\": 93, \"Type\": \"I\", \"Grade\": 3, \"MeasureA\": 24, \"MeasureB\": 30.1, \"MeasureC\": 91.94633635}, {\"SampleID\": 94, \"Type\": \"II\", \"Grade\": 2, \"MeasureA\": 21, \"MeasureB\": 28.5, \"MeasureC\": 115.33205919999999}, {\"SampleID\": 95, \"Type\": \"II\", \"Grade\": 4, \"MeasureA\": 29, \"MeasureB\": 29.2, \"MeasureC\": 96.69564868}, {\"SampleID\": 96, \"Type\": \"I\", \"Grade\": 3, \"MeasureA\": 21, \"MeasureB\": 25.0, \"MeasureC\": 103.2237425}, {\"SampleID\": 97, \"Type\": \"I\", \"Grade\": 2, \"MeasureA\": 26, \"MeasureB\": 26.4, \"MeasureC\": 101.13002009999998}, {\"SampleID\": 98, \"Type\": \"II\", \"Grade\": 3, \"MeasureA\": 21, \"MeasureB\": 24.0, \"MeasureC\": 117.7524212}, {\"SampleID\": 99, \"Type\": \"I\", \"Grade\": 4, \"MeasureA\": 30, \"MeasureB\": 36.3, \"MeasureC\": 101.52279990000001}, {\"SampleID\": 100, \"Type\": \"II\", \"Grade\": 2, \"MeasureA\": 23, \"MeasureB\": 29.3, \"MeasureC\": 80.16592453}]}}, {\"mode\": \"vega-lite\"});\n",
       "</script>"
      ],
      "text/plain": [
       "alt.Chart(...)"
      ]
     },
     "execution_count": 12,
     "metadata": {},
     "output_type": "execute_result"
    }
   ],
   "source": [
    "chart.mark_point().encode(x='Type',\n",
    "                          y='average(MeasureA)')"
   ]
  },
  {
   "cell_type": "code",
   "execution_count": null,
   "metadata": {},
   "outputs": [],
   "source": [
    "chart.mark_bar().encode(x='Type',\n",
    "                        y='average(MeasureA)')"
   ]
  }
 ],
 "metadata": {
  "kernelspec": {
   "display_name": "Python 3",
   "language": "python",
   "name": "python3"
  },
  "language_info": {
   "codemirror_mode": {
    "name": "ipython",
    "version": 3
   },
   "file_extension": ".py",
   "mimetype": "text/x-python",
   "name": "python",
   "nbconvert_exporter": "python",
   "pygments_lexer": "ipython3",
   "version": "3.7.4"
  }
 },
 "nbformat": 4,
 "nbformat_minor": 2
}
