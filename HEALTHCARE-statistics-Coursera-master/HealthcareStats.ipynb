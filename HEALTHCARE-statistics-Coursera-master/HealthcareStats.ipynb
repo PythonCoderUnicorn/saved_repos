{
 "cells": [
  {
   "cell_type": "markdown",
   "metadata": {},
   "source": [
    "# Healthcare Stats, data analysis"
   ]
  },
  {
   "cell_type": "code",
   "execution_count": 1,
   "metadata": {},
   "outputs": [],
   "source": [
    "import pandas as pd\n",
    "import numpy as np\n",
    "from scipy import stats"
   ]
  },
  {
   "cell_type": "code",
   "execution_count": 2,
   "metadata": {},
   "outputs": [
    {
     "data": {
      "text/html": [
       "<div>\n",
       "<style scoped>\n",
       "    .dataframe tbody tr th:only-of-type {\n",
       "        vertical-align: middle;\n",
       "    }\n",
       "\n",
       "    .dataframe tbody tr th {\n",
       "        vertical-align: top;\n",
       "    }\n",
       "\n",
       "    .dataframe thead th {\n",
       "        text-align: right;\n",
       "    }\n",
       "</style>\n",
       "<table border=\"1\" class=\"dataframe\">\n",
       "  <thead>\n",
       "    <tr style=\"text-align: right;\">\n",
       "      <th></th>\n",
       "      <th>LastName</th>\n",
       "      <th>FirstName</th>\n",
       "      <th>DOB</th>\n",
       "      <th>Age</th>\n",
       "      <th>Vocation</th>\n",
       "      <th>Smoke</th>\n",
       "      <th>HR</th>\n",
       "      <th>sBP</th>\n",
       "      <th>CholesterolBefore</th>\n",
       "      <th>Cholesterol_b4_level</th>\n",
       "      <th>CholesterolAfter</th>\n",
       "      <th>TAG</th>\n",
       "      <th>Survey</th>\n",
       "      <th>Delta</th>\n",
       "      <th>Group</th>\n",
       "      <th>year</th>\n",
       "    </tr>\n",
       "  </thead>\n",
       "  <tbody>\n",
       "    <tr>\n",
       "      <th>0</th>\n",
       "      <td>Patton</td>\n",
       "      <td>Dylan</td>\n",
       "      <td>1981-10-07</td>\n",
       "      <td>45</td>\n",
       "      <td>Energy manager</td>\n",
       "      <td>0</td>\n",
       "      <td>47</td>\n",
       "      <td>145</td>\n",
       "      <td>1.2</td>\n",
       "      <td>low</td>\n",
       "      <td>0.7</td>\n",
       "      <td>1.2</td>\n",
       "      <td>1</td>\n",
       "      <td>0.5</td>\n",
       "      <td>1</td>\n",
       "      <td>1981-10-07</td>\n",
       "    </tr>\n",
       "    <tr>\n",
       "      <th>1</th>\n",
       "      <td>Howard</td>\n",
       "      <td>Sandra</td>\n",
       "      <td>1993-01-27</td>\n",
       "      <td>55</td>\n",
       "      <td>Tax adviser</td>\n",
       "      <td>0</td>\n",
       "      <td>51</td>\n",
       "      <td>115</td>\n",
       "      <td>1.2</td>\n",
       "      <td>low</td>\n",
       "      <td>1.0</td>\n",
       "      <td>0.6</td>\n",
       "      <td>3</td>\n",
       "      <td>0.2</td>\n",
       "      <td>1</td>\n",
       "      <td>1993-01-27</td>\n",
       "    </tr>\n",
       "    <tr>\n",
       "      <th>2</th>\n",
       "      <td>Williams</td>\n",
       "      <td>Samantha</td>\n",
       "      <td>1973-12-21</td>\n",
       "      <td>35</td>\n",
       "      <td>IT consultant</td>\n",
       "      <td>0</td>\n",
       "      <td>54</td>\n",
       "      <td>120</td>\n",
       "      <td>2.0</td>\n",
       "      <td>low</td>\n",
       "      <td>1.7</td>\n",
       "      <td>1.3</td>\n",
       "      <td>3</td>\n",
       "      <td>0.3</td>\n",
       "      <td>1</td>\n",
       "      <td>1973-12-21</td>\n",
       "    </tr>\n",
       "    <tr>\n",
       "      <th>3</th>\n",
       "      <td>Hensley</td>\n",
       "      <td>Ashley</td>\n",
       "      <td>1981-12-01</td>\n",
       "      <td>45</td>\n",
       "      <td>Nurse, children's</td>\n",
       "      <td>0</td>\n",
       "      <td>54</td>\n",
       "      <td>103</td>\n",
       "      <td>2.1</td>\n",
       "      <td>low</td>\n",
       "      <td>2.1</td>\n",
       "      <td>1.6</td>\n",
       "      <td>4</td>\n",
       "      <td>0.0</td>\n",
       "      <td>1</td>\n",
       "      <td>1981-12-01</td>\n",
       "    </tr>\n",
       "    <tr>\n",
       "      <th>4</th>\n",
       "      <td>Wilson</td>\n",
       "      <td>Robert</td>\n",
       "      <td>1964-06-23</td>\n",
       "      <td>48</td>\n",
       "      <td>Clinical embryologist</td>\n",
       "      <td>0</td>\n",
       "      <td>61</td>\n",
       "      <td>138</td>\n",
       "      <td>2.8</td>\n",
       "      <td>low</td>\n",
       "      <td>2.8</td>\n",
       "      <td>2.1</td>\n",
       "      <td>5</td>\n",
       "      <td>0.0</td>\n",
       "      <td>1</td>\n",
       "      <td>1964-06-23</td>\n",
       "    </tr>\n",
       "  </tbody>\n",
       "</table>\n",
       "</div>"
      ],
      "text/plain": [
       "   LastName FirstName         DOB  Age               Vocation  Smoke  HR  sBP  \\\n",
       "0    Patton     Dylan  1981-10-07   45         Energy manager      0  47  145   \n",
       "1    Howard    Sandra  1993-01-27   55            Tax adviser      0  51  115   \n",
       "2  Williams  Samantha  1973-12-21   35          IT consultant      0  54  120   \n",
       "3   Hensley    Ashley  1981-12-01   45      Nurse, children's      0  54  103   \n",
       "4    Wilson    Robert  1964-06-23   48  Clinical embryologist      0  61  138   \n",
       "\n",
       "   CholesterolBefore Cholesterol_b4_level  CholesterolAfter  TAG  Survey  \\\n",
       "0                1.2                  low               0.7  1.2       1   \n",
       "1                1.2                  low               1.0  0.6       3   \n",
       "2                2.0                  low               1.7  1.3       3   \n",
       "3                2.1                  low               2.1  1.6       4   \n",
       "4                2.8                  low               2.8  2.1       5   \n",
       "\n",
       "   Delta  Group        year  \n",
       "0    0.5      1  1981-10-07  \n",
       "1    0.2      1  1993-01-27  \n",
       "2    0.3      1  1973-12-21  \n",
       "3    0.0      1  1981-12-01  \n",
       "4    0.0      1  1964-06-23  "
      ]
     },
     "execution_count": 2,
     "metadata": {},
     "output_type": "execute_result"
    }
   ],
   "source": [
    "df = pd.read_csv('./DATA/DATA copy.csv')\n",
    "df.head()"
   ]
  },
  {
   "cell_type": "code",
   "execution_count": 4,
   "metadata": {},
   "outputs": [],
   "source": [
    "df.drop(columns=['year'], inplace=True)"
   ]
  },
  {
   "cell_type": "code",
   "execution_count": 6,
   "metadata": {},
   "outputs": [
    {
     "data": {
      "text/plain": [
       "(200, 15)"
      ]
     },
     "execution_count": 6,
     "metadata": {},
     "output_type": "execute_result"
    }
   ],
   "source": [
    "df.shape"
   ]
  },
  {
   "cell_type": "code",
   "execution_count": 7,
   "metadata": {},
   "outputs": [
    {
     "data": {
      "text/plain": [
       "Index(['LastName', 'FirstName', 'DOB', 'Age', 'Vocation', 'Smoke', 'HR', 'sBP',\n",
       "       'CholesterolBefore', 'Cholesterol_b4_level', 'CholesterolAfter', 'TAG',\n",
       "       'Survey', 'Delta', 'Group'],\n",
       "      dtype='object')"
      ]
     },
     "execution_count": 7,
     "metadata": {},
     "output_type": "execute_result"
    }
   ],
   "source": [
    "df.columns"
   ]
  },
  {
   "cell_type": "code",
   "execution_count": 8,
   "metadata": {},
   "outputs": [
    {
     "data": {
      "text/plain": [
       "array([1, 0])"
      ]
     },
     "execution_count": 8,
     "metadata": {},
     "output_type": "execute_result"
    }
   ],
   "source": [
    "df.Group.unique()"
   ]
  },
  {
   "cell_type": "markdown",
   "metadata": {},
   "source": [
    "### Group column has Active and Control, 0 = Control (placebo), 1= Active (drug)."
   ]
  },
  {
   "cell_type": "code",
   "execution_count": 32,
   "metadata": {},
   "outputs": [
    {
     "name": "stdout",
     "output_type": "stream",
     "text": [
      "Active group 100\n",
      "Ctrl group 100\n"
     ]
    }
   ],
   "source": [
    "groups = df.Group.value_counts()\n",
    "print('Active group {}'.format(groups[1]))\n",
    "print('Ctrl group {}'.format(groups[0]))"
   ]
  },
  {
   "cell_type": "markdown",
   "metadata": {},
   "source": [
    "### Convert group column counts to Relative Frequency using <code>normalize=True</code>"
   ]
  },
  {
   "cell_type": "code",
   "execution_count": 36,
   "metadata": {},
   "outputs": [
    {
     "name": "stdout",
     "output_type": "stream",
     "text": [
      "Active group normalized 50.0\n",
      "Ctrl group normalized   50.0\n"
     ]
    }
   ],
   "source": [
    "relfreq = df.Group.value_counts(normalize=True) * 100\n",
    "\n",
    "print('Active group normalized {}'.format(relfreq[1]))\n",
    "print('Ctrl group normalized   {}'.format(relfreq[0]))"
   ]
  },
  {
   "cell_type": "markdown",
   "metadata": {},
   "source": [
    "### Convert Smoke column values to normalized value counts"
   ]
  },
  {
   "cell_type": "code",
   "execution_count": 41,
   "metadata": {},
   "outputs": [
    {
     "name": "stdout",
     "output_type": "stream",
     "text": [
      "non-smokers 44.0\n",
      "smokers     42.5\n",
      "ex-smokers  13.5\n"
     ]
    }
   ],
   "source": [
    "smoke_relfreq = df.Smoke.value_counts(normalize=True) * 100\n",
    "\n",
    "print(\"non-smokers {}\".format(smoke_relfreq[0]))\n",
    "print(\"smokers     {}\".format(smoke_relfreq[1]))\n",
    "print(\"ex-smokers  {}\".format(smoke_relfreq[2]))"
   ]
  },
  {
   "cell_type": "markdown",
   "metadata": {},
   "source": [
    "## Pandas crosstab() function"
   ]
  },
  {
   "cell_type": "code",
   "execution_count": 49,
   "metadata": {},
   "outputs": [
    {
     "data": {
      "text/html": [
       "<div>\n",
       "<style scoped>\n",
       "    .dataframe tbody tr th:only-of-type {\n",
       "        vertical-align: middle;\n",
       "    }\n",
       "\n",
       "    .dataframe tbody tr th {\n",
       "        vertical-align: top;\n",
       "    }\n",
       "\n",
       "    .dataframe thead th {\n",
       "        text-align: right;\n",
       "    }\n",
       "</style>\n",
       "<table border=\"1\" class=\"dataframe\">\n",
       "  <thead>\n",
       "    <tr style=\"text-align: right;\">\n",
       "      <th>Survey</th>\n",
       "      <th>1</th>\n",
       "      <th>2</th>\n",
       "      <th>3</th>\n",
       "      <th>4</th>\n",
       "      <th>5</th>\n",
       "    </tr>\n",
       "    <tr>\n",
       "      <th>Group</th>\n",
       "      <th></th>\n",
       "      <th></th>\n",
       "      <th></th>\n",
       "      <th></th>\n",
       "      <th></th>\n",
       "    </tr>\n",
       "  </thead>\n",
       "  <tbody>\n",
       "    <tr>\n",
       "      <th>0</th>\n",
       "      <td>17</td>\n",
       "      <td>32</td>\n",
       "      <td>13</td>\n",
       "      <td>14</td>\n",
       "      <td>24</td>\n",
       "    </tr>\n",
       "    <tr>\n",
       "      <th>1</th>\n",
       "      <td>21</td>\n",
       "      <td>18</td>\n",
       "      <td>17</td>\n",
       "      <td>23</td>\n",
       "      <td>21</td>\n",
       "    </tr>\n",
       "  </tbody>\n",
       "</table>\n",
       "</div>"
      ],
      "text/plain": [
       "Survey   1   2   3   4   5\n",
       "Group                     \n",
       "0       17  32  13  14  24\n",
       "1       21  18  17  23  21"
      ]
     },
     "execution_count": 49,
     "metadata": {},
     "output_type": "execute_result"
    }
   ],
   "source": [
    "# survey and group cross tab\n",
    "pd.crosstab(df.Group, df.Survey)"
   ]
  },
  {
   "cell_type": "markdown",
   "metadata": {},
   "source": [
    "# Measures of Central Tendency (point estimates)"
   ]
  },
  {
   "cell_type": "markdown",
   "metadata": {},
   "source": [
    "## Mean() or Average. \n",
    "- What is the mean age of all patients?"
   ]
  },
  {
   "cell_type": "code",
   "execution_count": 52,
   "metadata": {},
   "outputs": [
    {
     "name": "stdout",
     "output_type": "stream",
     "text": [
      " Avg age of all patients is 55.07\n"
     ]
    }
   ],
   "source": [
    "avg_age = df.Age.mean()\n",
    "print(\" Avg age of all patients is {}\".format(avg_age))"
   ]
  },
  {
   "cell_type": "markdown",
   "metadata": {},
   "source": [
    "- what is the average heart rate of all the patients?"
   ]
  },
  {
   "cell_type": "code",
   "execution_count": 53,
   "metadata": {},
   "outputs": [
    {
     "name": "stdout",
     "output_type": "stream",
     "text": [
      " Avg heart rate of all patients is 74.655\n"
     ]
    }
   ],
   "source": [
    "avg_HR = df.HR.mean()\n",
    "print(\" Avg heart rate of all patients is {}\".format(avg_HR))"
   ]
  },
  {
   "cell_type": "markdown",
   "metadata": {},
   "source": [
    "- what is the mean age of patients who smoke (1 in column) ?"
   ]
  },
  {
   "cell_type": "code",
   "execution_count": 56,
   "metadata": {},
   "outputs": [
    {
     "name": "stdout",
     "output_type": "stream",
     "text": [
      " Avg age of smoker patients is 58.16\n"
     ]
    }
   ],
   "source": [
    "avg_smoker_age = df[df.Smoke ==1]['Age'].mean()\n",
    "print(\" Avg age of smoker patients is {:.2f}\".format(avg_smoker_age))"
   ]
  },
  {
   "cell_type": "markdown",
   "metadata": {},
   "source": [
    "- what is the mean age of patients who do not smoke (0 in column) ?"
   ]
  },
  {
   "cell_type": "code",
   "execution_count": 57,
   "metadata": {},
   "outputs": [
    {
     "name": "stdout",
     "output_type": "stream",
     "text": [
      " Avg age of non-smoker patients is 52.09\n"
     ]
    }
   ],
   "source": [
    "avg_NONsmoker_age = df[df.Smoke ==0]['Age'].mean()\n",
    "print(\" Avg age of non-smoker patients is {:.2f}\".format(avg_NONsmoker_age))"
   ]
  },
  {
   "cell_type": "markdown",
   "metadata": {},
   "source": [
    "- what is the mean age for patients who are ex-smokers (2 in column) ?"
   ]
  },
  {
   "cell_type": "code",
   "execution_count": 58,
   "metadata": {},
   "outputs": [
    {
     "name": "stdout",
     "output_type": "stream",
     "text": [
      " Avg age of ex-smoker patients is 55.04\n"
     ]
    }
   ],
   "source": [
    "avg_Xsmoker_age = df[df.Smoke ==2]['Age'].mean()\n",
    "print(\" Avg age of ex-smoker patients is {:.2f}\".format(avg_Xsmoker_age))"
   ]
  },
  {
   "cell_type": "markdown",
   "metadata": {},
   "source": [
    "### Save time, use __groupby()__ method "
   ]
  },
  {
   "cell_type": "code",
   "execution_count": 59,
   "metadata": {},
   "outputs": [
    {
     "data": {
      "text/plain": [
       "Smoke\n",
       "0    52.090909\n",
       "1    58.164706\n",
       "2    55.037037\n",
       "Name: Age, dtype: float64"
      ]
     },
     "execution_count": 59,
     "metadata": {},
     "output_type": "execute_result"
    }
   ],
   "source": [
    "df.groupby('Smoke')['Age'].mean()"
   ]
  },
  {
   "cell_type": "markdown",
   "metadata": {},
   "source": [
    "## Median "
   ]
  },
  {
   "cell_type": "markdown",
   "metadata": {},
   "source": [
    "The **median** puts all the values in a sorted order.  \n",
    "- If there are an odd number of values, then the median is the middle value.  \n",
    "- If there are an even number of values, then the mean of the middle two values as taken."
   ]
  },
  {
   "cell_type": "markdown",
   "metadata": {},
   "source": [
    "- what is the median heart rate of patients older than 50?"
   ]
  },
  {
   "cell_type": "code",
   "execution_count": 64,
   "metadata": {},
   "outputs": [
    {
     "name": "stdout",
     "output_type": "stream",
     "text": [
      "median HR for patients 50+ is 79.0\n"
     ]
    }
   ],
   "source": [
    "median_HR_50plus = df[df.Age > 50]['HR'].median()\n",
    "print(\"median HR for patients 50+ is {}\".format(median_HR_50plus))"
   ]
  },
  {
   "cell_type": "markdown",
   "metadata": {},
   "source": [
    "- what is the median age of patients who smoke (1) and have a heart rate greater than 70 ?"
   ]
  },
  {
   "cell_type": "code",
   "execution_count": 74,
   "metadata": {
    "scrolled": true
   },
   "outputs": [
    {
     "name": "stdout",
     "output_type": "stream",
     "text": [
      "median age of patients who smoke and have HR >70 is 60.0\n"
     ]
    }
   ],
   "source": [
    "smokers_median = df.loc[\n",
    "    (df.Smoke ==1) & ((df.HR > 70)),\n",
    "    'Age'].median()\n",
    "\n",
    "print(\"median age of patients who smoke and have HR >70 is {}\".format(smokers_median))"
   ]
  },
  {
   "cell_type": "markdown",
   "metadata": {},
   "source": [
    "## Mode (most occuring value)"
   ]
  },
  {
   "cell_type": "markdown",
   "metadata": {},
   "source": [
    "- what is the mode of the smoking variable?"
   ]
  },
  {
   "cell_type": "code",
   "execution_count": 75,
   "metadata": {},
   "outputs": [
    {
     "data": {
      "text/plain": [
       "0    0\n",
       "dtype: int64"
      ]
     },
     "execution_count": 75,
     "metadata": {},
     "output_type": "execute_result"
    }
   ],
   "source": [
    "df.Smoke.mode()"
   ]
  },
  {
   "cell_type": "code",
   "execution_count": 79,
   "metadata": {},
   "outputs": [
    {
     "name": "stdout",
     "output_type": "stream",
     "text": [
      "non-smokers count 88\n",
      "smokers count     85\n",
      "ex-smokers count  27\n"
     ]
    }
   ],
   "source": [
    "smoker_groups = df.Smoke.value_counts()\n",
    "\n",
    "print(\"non-smokers count {}\".format(smoker_groups[0]))\n",
    "print(\"smokers count     {}\".format(smoker_groups[1]))\n",
    "print(\"ex-smokers count  {}\".format(smoker_groups[2]))"
   ]
  },
  {
   "cell_type": "markdown",
   "metadata": {},
   "source": [
    "# Standard Deviation & Variance"
   ]
  },
  {
   "cell_type": "markdown",
   "metadata": {},
   "source": [
    "The **standard deviation** can be understood as the average difference between each continuous numerical data value and the mean of that variable.  Difference infers subtraction."
   ]
  },
  {
   "cell_type": "markdown",
   "metadata": {},
   "source": [
    "**Variances** are very useful in statistics.  We need to express the spread in the same units as our variable for it to make sense as a summary statistics. We take the square root of the variance to get the standard deviation, now expressed in the same units as the variable and a true measure of the average difference between all the values and the mean."
   ]
  },
  {
   "cell_type": "markdown",
   "metadata": {},
   "source": [
    "## using __std()__ method and __var()__ method with __groupby()__"
   ]
  },
  {
   "cell_type": "markdown",
   "metadata": {},
   "source": [
    "- what is the standard deviation of the age of patients who smoke vs those who do not smoke?"
   ]
  },
  {
   "cell_type": "code",
   "execution_count": 83,
   "metadata": {},
   "outputs": [
    {
     "name": "stdout",
     "output_type": "stream",
     "text": [
      "non-smokers age std 12.03\n",
      "smokers age std     12.36\n",
      "ex-smokers age std  12.92\n"
     ]
    }
   ],
   "source": [
    "smoker_std = df.groupby('Smoke')['Age'].std()\n",
    "\n",
    "print(\"non-smokers age std {:.2f}\".format(smoker_std[0]))\n",
    "print(\"smokers age std     {:.2f}\".format(smoker_std[1]))\n",
    "print(\"ex-smokers age std  {:.2f}\".format(smoker_std[2]))"
   ]
  },
  {
   "cell_type": "markdown",
   "metadata": {},
   "source": [
    "- what is the variance of the age of patients who smoke vs those who do not smoke?"
   ]
  },
  {
   "cell_type": "code",
   "execution_count": 86,
   "metadata": {},
   "outputs": [
    {
     "name": "stdout",
     "output_type": "stream",
     "text": [
      "non-smokers age variance 144.61\n",
      "smokers age variance     152.85\n",
      "ex-smokers age variance  167.04\n"
     ]
    }
   ],
   "source": [
    "smoker_variance = df.groupby('Smoke')['Age'].var()\n",
    "\n",
    "print(\"non-smokers age variance {:.2f}\".format(smoker_variance[0]))\n",
    "print(\"smokers age variance     {:.2f}\".format(smoker_variance[1]))\n",
    "print(\"ex-smokers age variance  {:.2f}\".format(smoker_variance[2]))"
   ]
  },
  {
   "cell_type": "markdown",
   "metadata": {},
   "source": [
    "## Range"
   ]
  },
  {
   "cell_type": "markdown",
   "metadata": {},
   "source": [
    "The **range** is the difference between the minimum and the maximum value of a continuous numerical variable.  The `min()` and the `max()` methods for series objects give these values."
   ]
  },
  {
   "cell_type": "markdown",
   "metadata": {},
   "source": [
    "- What is the minimum age of all the patients?\n",
    "- what is the maximum age of all the patients?\n",
    "- what is the age range of all the patients?"
   ]
  },
  {
   "cell_type": "code",
   "execution_count": 91,
   "metadata": {},
   "outputs": [
    {
     "name": "stdout",
     "output_type": "stream",
     "text": [
      " min age: 32\n",
      " max age: 77\n",
      " age range is: 45\n"
     ]
    }
   ],
   "source": [
    "minAge = df.Age.min()\n",
    "maxAge = df.Age.max()\n",
    "print(\" min age: {}\".format(minAge))\n",
    "print(\" max age: {}\".format(maxAge))\n",
    "    \n",
    "age_range = maxAge - minAge\n",
    "print(\" age range is: {}\".format(age_range))"
   ]
  },
  {
   "cell_type": "markdown",
   "metadata": {},
   "source": [
    "## Quantile | Quartiles "
   ]
  },
  {
   "cell_type": "markdown",
   "metadata": {},
   "source": [
    "The lowest of these three values (the **first quartile**), divide the data into two parts, with a quarter being lower than that value and three-quarters being higher.  The second divide the data values equally (the median or **second quartile**).  The third is a value that has three-quarters of the values less than and a quarter more than it (the **third quartile**)."
   ]
  },
  {
   "cell_type": "markdown",
   "metadata": {},
   "source": [
    "### selecting quartiles for the __quantile()__ method"
   ]
  },
  {
   "cell_type": "code",
   "execution_count": 109,
   "metadata": {},
   "outputs": [
    {
     "name": "stdout",
     "output_type": "stream",
     "text": [
      "quartile Age\n",
      "0.25    45.0\n",
      "0.50    56.0\n",
      "0.75    66.0\n",
      "Name: Age, dtype: float64\n"
     ]
    }
   ],
   "source": [
    "ageQuant = df.Age.quantile([0.25, 0.5, 0.75])\n",
    "print(\"quartile Age\")\n",
    "print('{}'.format(ageQuant))"
   ]
  },
  {
   "cell_type": "markdown",
   "metadata": {},
   "source": [
    "- what is/ are the $95$<sup>th</sup> percentile values in age of patients who smoke vs non-smokers?"
   ]
  },
  {
   "cell_type": "code",
   "execution_count": 114,
   "metadata": {},
   "outputs": [
    {
     "name": "stdout",
     "output_type": "stream",
     "text": [
      "non-smoker 95% : 74.0\n",
      "smoker 95%     : 75.0\n",
      "ex-smoker 95%  : 73.7\n"
     ]
    }
   ],
   "source": [
    "smoker95 = df.groupby('Smoke')['Age'].quantile(0.95)\n",
    "\n",
    "print('non-smoker 95% : {}'.format(smoker95[0]))\n",
    "print('smoker 95%     : {}'.format(smoker95[1]))\n",
    "print('ex-smoker 95%  : {}'.format(smoker95[2]))"
   ]
  },
  {
   "cell_type": "markdown",
   "metadata": {},
   "source": [
    "## Interquartile range (IQR)          (3rd - 1st)"
   ]
  },
  {
   "cell_type": "code",
   "execution_count": 115,
   "metadata": {},
   "outputs": [
    {
     "name": "stdout",
     "output_type": "stream",
     "text": [
      " the IQR is 21.0\n"
     ]
    }
   ],
   "source": [
    "IQR = df.Age.quantile(0.75) - df.Age.quantile(0.25)\n",
    "print(\" the IQR is {}\".format(IQR))"
   ]
  },
  {
   "cell_type": "code",
   "execution_count": null,
   "metadata": {},
   "outputs": [],
   "source": []
  }
 ],
 "metadata": {
  "kernelspec": {
   "display_name": "Python 3",
   "language": "python",
   "name": "python3"
  },
  "language_info": {
   "codemirror_mode": {
    "name": "ipython",
    "version": 3
   },
   "file_extension": ".py",
   "mimetype": "text/x-python",
   "name": "python",
   "nbconvert_exporter": "python",
   "pygments_lexer": "ipython3",
   "version": "3.7.4"
  }
 },
 "nbformat": 4,
 "nbformat_minor": 2
}
